{
 "cells": [
  {
   "cell_type": "code",
   "execution_count": 6,
   "metadata": {},
   "outputs": [
    {
     "name": "stdout",
     "output_type": "stream",
     "text": [
      "[1 4 5]\n",
      "[[1 2]\n",
      " [3 4]\n",
      " [5 6]]\n"
     ]
    }
   ],
   "source": [
    "import numpy as np\n",
    "x = np.array([[1, 2], [3, 4], [5, 6]]) \n",
    "y = x[[0,1,2], [0,1,0]] \n",
    "print (y)\n",
    "print(x)"
   ]
  },
  {
   "cell_type": "code",
   "execution_count": 8,
   "metadata": {},
   "outputs": [
    {
     "name": "stdout",
     "output_type": "stream",
     "text": [
      "Our array is:\n",
      "[[ 0  1  2]\n",
      " [ 3  4  5]\n",
      " [ 6  7  8]\n",
      " [ 9 10 11]]\n",
      "\n",
      "\n",
      "The corner elements of this array are:\n",
      "[[ 0  2]\n",
      " [ 9 11]]\n"
     ]
    }
   ],
   "source": [
    "x = np.array([[ 0,  1,  2],[ 3,  4,  5],[ 6,  7,  8],[ 9, 10, 11]]) \n",
    "   \n",
    "print ('Our array is:' )\n",
    "print( x) \n",
    "print ('\\n' )\n",
    "\n",
    "rows = np.array([[0,0],[3,3]])\n",
    "cols = np.array([[0,2],[0,2]]) \n",
    "y = x[rows,cols] \n",
    "   \n",
    "print ('The corner elements of this array are:' )\n",
    "print (y)"
   ]
  },
  {
   "cell_type": "code",
   "execution_count": 17,
   "metadata": {},
   "outputs": [
    {
     "ename": "SyntaxError",
     "evalue": "invalid syntax (<ipython-input-17-8e1b552b126a>, line 6)",
     "output_type": "error",
     "traceback": [
      "\u001b[1;36m  File \u001b[1;32m\"<ipython-input-17-8e1b552b126a>\"\u001b[1;36m, line \u001b[1;32m6\u001b[0m\n\u001b[1;33m    print ('\\n')\u001b[0m\n\u001b[1;37m        ^\u001b[0m\n\u001b[1;31mSyntaxError\u001b[0m\u001b[1;31m:\u001b[0m invalid syntax\n"
     ]
    }
   ],
   "source": []
  },
  {
   "cell_type": "code",
   "execution_count": 11,
   "metadata": {},
   "outputs": [
    {
     "data": {
      "text/plain": [
       "'jack is 15 years old'"
      ]
     },
     "execution_count": 11,
     "metadata": {},
     "output_type": "execute_result"
    }
   ],
   "source": [
    "name=\"jack\"\n",
    "sent=\"%s is 15 years old\"\n",
    "sent%name"
   ]
  },
  {
   "cell_type": "code",
   "execution_count": 28,
   "metadata": {},
   "outputs": [
    {
     "name": "stdout",
     "output_type": "stream",
     "text": [
      "Our array is:\n",
      "[[ 0  1  2]\n",
      " [ 3  4  5]\n",
      " [ 6  7  8]\n",
      " [ 9 10 11]]\n",
      "\n",
      "\n",
      "After slicing, our array becomes:\n",
      "[[ 4  5]\n",
      " [ 7  8]\n",
      " [10 11]]\n",
      "\n",
      "\n",
      "Slicing using advanced index for column:\n",
      "[[ 4  5]\n",
      " [ 7  8]\n",
      " [10 11]]\n"
     ]
    }
   ],
   "source": [
    "x = np.array([[ 0,  1,  2],[ 3,  4,  5],[ 6,  7,  8],[ 9, 10, 11]]) \n",
    "\n",
    "print ('Our array is:') \n",
    "print (x) \n",
    "print ('\\n')  \n",
    "\n",
    "# slicing \n",
    "z = x[1:4,1:3] \n",
    "\n",
    "print ('After slicing, our array becomes:') \n",
    "print (z) \n",
    "print ('\\n')  \n",
    "\n",
    "# using advanced index for column \n",
    "y = x[1:4,[1,2]] \n",
    "\n",
    "print ('Slicing using advanced index for column:') \n",
    "print(y)"
   ]
  },
  {
   "cell_type": "code",
   "execution_count": 29,
   "metadata": {},
   "outputs": [
    {
     "name": "stdout",
     "output_type": "stream",
     "text": [
      "Our array is:\n",
      "[[ 0  1  2]\n",
      " [ 3  4  5]\n",
      " [ 6  7  8]\n",
      " [ 9 10 11]]\n",
      "\n",
      "\n",
      "The items greater than 5 are:\n",
      "[ 6  7  8  9 10 11]\n"
     ]
    }
   ],
   "source": [
    "import numpy as np \n",
    "x = np.array([[ 0,  1,  2],[ 3,  4,  5],[ 6,  7,  8],[ 9, 10, 11]]) \n",
    "\n",
    "print ('Our array is:') \n",
    "print (x) \n",
    "print ('\\n')  \n",
    "\n",
    "# Now we will print the items greater than 5 \n",
    "print ('The items greater than 5 are:') \n",
    "print (x[x > 5])\n"
   ]
  },
  {
   "cell_type": "code",
   "execution_count": 34,
   "metadata": {},
   "outputs": [
    {
     "name": "stdout",
     "output_type": "stream",
     "text": [
      "[1. 2. 3. 4. 5.]\n",
      "[nan  1.  2. nan  3.  4.  5.]\n"
     ]
    }
   ],
   "source": [
    "a = np.array([np.nan, 1,2,np.nan,3,4,5]) \n",
    "print (a[~np.isnan(a)])\n",
    "print(a)"
   ]
  },
  {
   "cell_type": "code",
   "execution_count": 36,
   "metadata": {},
   "outputs": [
    {
     "name": "stdout",
     "output_type": "stream",
     "text": [
      "[2. +6.j 3.5+5.j]\n",
      "[1. +0.j 2. +6.j 5. +0.j 3.5+5.j]\n"
     ]
    }
   ],
   "source": [
    "a = np.array([1, 2+6j, 5, 3.5+5j]) \n",
    "print (a[np.iscomplex(a)])\n",
    "print(a)"
   ]
  },
  {
   "cell_type": "code",
   "execution_count": 40,
   "metadata": {},
   "outputs": [
    {
     "name": "stdout",
     "output_type": "stream",
     "text": [
      "[ 10  40  90 160]\n"
     ]
    }
   ],
   "source": [
    "a = np.array([1,2,3,4]) \n",
    "b = np.array([10,20,30,40]) \n",
    "c = a * b \n",
    "print (c)"
   ]
  },
  {
   "cell_type": "code",
   "execution_count": 41,
   "metadata": {},
   "outputs": [
    {
     "name": "stdout",
     "output_type": "stream",
     "text": [
      "First array:\n",
      "[[ 0.  0.  0.]\n",
      " [10. 10. 10.]\n",
      " [20. 20. 20.]\n",
      " [30. 30. 30.]]\n",
      "\n",
      "\n",
      "Second array:\n",
      "[1. 2. 3.]\n",
      "\n",
      "\n",
      "First Array + Second Array\n",
      "[[ 1.  2.  3.]\n",
      " [11. 12. 13.]\n",
      " [21. 22. 23.]\n",
      " [31. 32. 33.]]\n"
     ]
    }
   ],
   "source": [
    "a = np.array([[0.0,0.0,0.0],[10.0,10.0,10.0],[20.0,20.0,20.0],[30.0,30.0,30.0]]) \n",
    "b = np.array([1.0,2.0,3.0])  \n",
    "   \n",
    "print ('First array:') \n",
    "print (a) \n",
    "print ('\\n')  \n",
    "   \n",
    "print ('Second array:') \n",
    "print (b) \n",
    "print ('\\n')  \n",
    "   \n",
    "print ('First Array + Second Array') \n",
    "print (a + b)"
   ]
  },
  {
   "cell_type": "code",
   "execution_count": 51,
   "metadata": {},
   "outputs": [
    {
     "name": "stdout",
     "output_type": "stream",
     "text": [
      "[ 0  5 10 15 20 25 30 35 40 45 50 55]\n",
      "\n",
      "\n",
      "Original array is:\n",
      "[[ 0  5 10 15]\n",
      " [20 25 30 35]\n",
      " [40 45 50 55]]\n",
      "\n",
      "\n",
      "[[ 0 20 40]\n",
      " [ 5 25 45]\n",
      " [10 30 50]\n",
      " [15 35 55]]\n",
      "Modified array is:\n",
      "0\n",
      "5\n",
      "10\n",
      "15\n",
      "20\n",
      "25\n",
      "30\n",
      "35\n",
      "40\n",
      "45\n",
      "50\n",
      "55\n",
      "\n",
      "\n",
      "0\n",
      "5\n",
      "10\n",
      "15\n",
      "20\n",
      "25\n",
      "30\n",
      "35\n",
      "40\n",
      "45\n",
      "50\n",
      "55\n"
     ]
    }
   ],
   "source": [
    "a = np.arange(0,60,5)\n",
    "print(a)\n",
    "print('\\n')\n",
    "a = a.reshape(3,4)\n",
    "b=a.T\n",
    "print ('Original array is:')\n",
    "print (a)\n",
    "print ('\\n')\n",
    "print(b)\n",
    "\n",
    "print ('Modified array is:')\n",
    "for x in np.nditer(a):\n",
    "    print(x)\n",
    "print('\\n')   \n",
    "for y in np.nditer(b):\n",
    "    print(y)"
   ]
  },
  {
   "cell_type": "code",
   "execution_count": 56,
   "metadata": {},
   "outputs": [
    {
     "name": "stdout",
     "output_type": "stream",
     "text": [
      "Original array is:\n",
      "[[ 0  5 10 15]\n",
      " [20 25 30 35]\n",
      " [40 45 50 55]]\n",
      "\n",
      "\n",
      "Transpose of the original array is:\n",
      "[[ 0 20 40]\n",
      " [ 5 25 45]\n",
      " [10 30 50]\n",
      " [15 35 55]]\n",
      "\n",
      "\n",
      "Sorted in C-style order:\n",
      "[[ 0 20 40]\n",
      " [ 5 25 45]\n",
      " [10 30 50]\n",
      " [15 35 55]]\n",
      "0\n",
      "20\n",
      "40\n",
      "5\n",
      "25\n",
      "45\n",
      "10\n",
      "30\n",
      "50\n",
      "15\n",
      "35\n",
      "55\n",
      "\n",
      "\n",
      "Sorted in F-style order:\n",
      "[[ 0 20 40]\n",
      " [ 5 25 45]\n",
      " [10 30 50]\n",
      " [15 35 55]]\n",
      "0\n",
      "5\n",
      "10\n",
      "15\n",
      "20\n",
      "25\n",
      "30\n",
      "35\n",
      "40\n",
      "45\n",
      "50\n",
      "55\n"
     ]
    }
   ],
   "source": [
    "a = np.arange(0,60,5)\n",
    "a = a.reshape(3,4)\n",
    "print ('Original array is:')\n",
    "print (a)\n",
    "print ('\\n')\n",
    "\n",
    "print ('Transpose of the original array is:')\n",
    "b = a.T\n",
    "print (b)\n",
    "print ('\\n')\n",
    "\n",
    "print ('Sorted in C-style order:')\n",
    "c = b.copy(order = 'C')\n",
    "print (c)\n",
    "for x in np.nditer(c):\n",
    "    print (x)\n",
    "\n",
    "print ('\\n')\n",
    "\n",
    "print ('Sorted in F-style order:')\n",
    "c = b.copy(order = 'F')\n",
    "print (c)\n",
    "for x in np.nditer(c):\n",
    "    print (x)"
   ]
  },
  {
   "cell_type": "code",
   "execution_count": 59,
   "metadata": {},
   "outputs": [
    {
     "name": "stdout",
     "output_type": "stream",
     "text": [
      "Original array is:\n",
      "[[ 0  5 10 15]\n",
      " [20 25 30 35]\n",
      " [40 45 50 55]]\n",
      "\n",
      "\n",
      "Modified array is:\n",
      "[[  0  10  20  30]\n",
      " [ 40  50  60  70]\n",
      " [ 80  90 100 110]]\n",
      "\n",
      "\n",
      "Modified array is:\n",
      "[ 0 40 80]\n",
      "[10 50 90]\n",
      "[ 20  60 100]\n",
      "[ 30  70 110]\n"
     ]
    }
   ],
   "source": [
    "a = np.arange(0,60,5)\n",
    "a = a.reshape(3,4)\n",
    "print ('Original array is:')\n",
    "print (a)\n",
    "print ('\\n')\n",
    "\n",
    "for x in np.nditer(a, op_flags = ['readwrite']):\n",
    "    x[...] = 2*x\n",
    "print ('Modified array is:')\n",
    "print (a)\n",
    "print('\\n')\n",
    "print ('Modified array is:') \n",
    "for x in np.nditer(a, flags = ['external_loop'], order = 'F'):\n",
    "    print (x)"
   ]
  },
  {
   "cell_type": "code",
   "execution_count": 62,
   "metadata": {},
   "outputs": [
    {
     "name": "stdout",
     "output_type": "stream",
     "text": [
      "First array is:\n",
      "[[ 0  5 10 15]\n",
      " [20 25 30 35]\n",
      " [40 45 50 55]]\n",
      "\n",
      "\n",
      "Second array is:\n",
      "[1 2 3 4]\n",
      "\n",
      "\n",
      "Modified array is:\n",
      "0:1\n",
      "5:2\n",
      "10:3\n",
      "15:4\n",
      "20:1\n",
      "25:2\n",
      "30:3\n",
      "35:4\n",
      "40:1\n",
      "45:2\n",
      "50:3\n",
      "55:4\n"
     ]
    }
   ],
   "source": [
    "a = np.arange(0,60,5) \n",
    "a = a.reshape(3,4) \n",
    "\n",
    "print ('First array is:') \n",
    "print (a) \n",
    "print ('\\n')  \n",
    "\n",
    "print ('Second array is:') \n",
    "b = np.array([1, 2, 3, 4], dtype = int) \n",
    "print (b)  \n",
    "print ('\\n') \n",
    "\n",
    "print ('Modified array is:') \n",
    "for x,y in np.nditer([a,b]): \n",
    "    print (\"%d:%d\" % (x,y))"
   ]
  },
  {
   "cell_type": "code",
   "execution_count": 63,
   "metadata": {},
   "outputs": [
    {
     "name": "stdout",
     "output_type": "stream",
     "text": [
      "Sine of different angles:\n",
      "[0.         0.5        0.70710678 0.8660254  1.        ]\n",
      "\n",
      "\n",
      "Cosine values for angles in array:\n",
      "[1.00000000e+00 8.66025404e-01 7.07106781e-01 5.00000000e-01\n",
      " 6.12323400e-17]\n",
      "\n",
      "\n",
      "Tangent values for given angles:\n",
      "[0.00000000e+00 5.77350269e-01 1.00000000e+00 1.73205081e+00\n",
      " 1.63312394e+16]\n"
     ]
    }
   ],
   "source": [
    "a = np.array([0,30,45,60,90]) \n",
    "\n",
    "print ('Sine of different angles:') \n",
    "# Convert to radians by multiplying with pi/180 \n",
    "print (np.sin(a*np.pi/180)) \n",
    "print ('\\n') \n",
    "\n",
    "print ('Cosine values for angles in array:') \n",
    "print (np.cos(a*np.pi/180)) \n",
    "print ('\\n')  \n",
    "\n",
    "print ('Tangent values for given angles:') \n",
    "print (np.tan(a*np.pi/180)) "
   ]
  },
  {
   "cell_type": "code",
   "execution_count": 66,
   "metadata": {},
   "outputs": [
    {
     "name": "stdout",
     "output_type": "stream",
     "text": [
      "Array containing sine values:\n",
      "[0.         0.5        0.70710678 0.8660254  1.        ]\n",
      "\n",
      "\n",
      "Compute sine inverse of angles. Returned values are in radians.\n",
      "[0.         0.52359878 0.78539816 1.04719755 1.57079633]\n",
      "\n",
      "\n",
      "Check result by converting to degrees:\n",
      "[ 0. 30. 45. 60. 90.]\n",
      "\n",
      "\n",
      "arccos and arctan functions behave similarly:\n",
      "[1.00000000e+00 8.66025404e-01 7.07106781e-01 5.00000000e-01\n",
      " 6.12323400e-17]\n",
      "\n",
      "\n",
      "Inverse of cos:\n",
      "[0.         0.52359878 0.78539816 1.04719755 1.57079633]\n",
      "\n",
      "\n",
      "In degrees:\n",
      "[ 0. 30. 45. 60. 90.]\n",
      "\n",
      "\n",
      "Tan function:\n",
      "[0.00000000e+00 5.77350269e-01 1.00000000e+00 1.73205081e+00\n",
      " 1.63312394e+16]\n",
      "\n",
      "\n",
      "Inverse of tan:\n",
      "[0.         0.52359878 0.78539816 1.04719755 1.57079633]\n",
      "\n",
      "\n",
      "In degrees:\n",
      "[ 0. 30. 45. 60. 90.]\n"
     ]
    }
   ],
   "source": [
    "a = np.array([0,30,45,60,90]) \n",
    "\n",
    "print ('Array containing sine values:') \n",
    "sin = np.sin(a*np.pi/180) \n",
    "print (sin) \n",
    "print ('\\n')  \n",
    "\n",
    "print ('Compute sine inverse of angles. Returned values are in radians.') \n",
    "inv = np.arcsin(sin) \n",
    "print (inv) \n",
    "print ('\\n')  \n",
    "\n",
    "print ('Check result by converting to degrees:') \n",
    "print (np.degrees(inv)) \n",
    "print ('\\n')  \n",
    "\n",
    "print ('arccos and arctan functions behave similarly:') \n",
    "cos = np.cos(a*np.pi/180) \n",
    "print (cos) \n",
    "print ('\\n')  \n",
    "\n",
    "print ('Inverse of cos:') \n",
    "inv = np.arccos(cos) \n",
    "print (inv) \n",
    "print ('\\n')  \n",
    "\n",
    "print ('In degrees:') \n",
    "print (np.degrees(inv)) \n",
    "print ('\\n')  \n",
    "\n",
    "print ('Tan function:') \n",
    "tan = np.tan(a*np.pi/180) \n",
    "print (tan)\n",
    "print ('\\n') \n",
    "\n",
    "print ('Inverse of tan:') \n",
    "inv = np.arctan(tan) \n",
    "print (inv) \n",
    "print ('\\n')  \n",
    "\n",
    "print ('In degrees:') \n",
    "print (np.degrees(inv))"
   ]
  },
  {
   "cell_type": "code",
   "execution_count": 69,
   "metadata": {},
   "outputs": [
    {
     "name": "stdout",
     "output_type": "stream",
     "text": [
      "Original array:\n",
      "[  1.      5.55  123.      0.567  25.532]\n",
      "\n",
      "\n",
      "After rounding:\n",
      "[  1.   6. 123.   1.  26.]\n",
      "[  1.    5.6 123.    0.6  25.5]\n",
      "[  0.  10. 120.   0.  30.]\n"
     ]
    }
   ],
   "source": [
    "a = np.array([1.0,5.55, 123, 0.567, 25.532])\n",
    "\n",
    "print ('Original array:' )\n",
    "print (a) \n",
    "print ('\\n')  \n",
    "\n",
    "print ('After rounding:') \n",
    "print (np.around(a)) \n",
    "print (np.around(a, decimals = 1)) \n",
    "print (np.around(a, decimals = -1))"
   ]
  },
  {
   "cell_type": "code",
   "execution_count": 3,
   "metadata": {},
   "outputs": [
    {
     "name": "stdout",
     "output_type": "stream",
     "text": [
      "First array:\n",
      "[[0. 1. 2.]\n",
      " [3. 4. 5.]\n",
      " [6. 7. 8.]]\n",
      "\n",
      "\n",
      "Second array:\n",
      "[10 10 10]\n",
      "\n",
      "\n",
      "Add the two arrays:\n",
      "[[10. 11. 12.]\n",
      " [13. 14. 15.]\n",
      " [16. 17. 18.]]\n",
      "\n",
      "\n",
      "Subtract the two arrays:\n",
      "[[-10.  -9.  -8.]\n",
      " [ -7.  -6.  -5.]\n",
      " [ -4.  -3.  -2.]]\n",
      "\n",
      "\n",
      "Multiply the two arrays:\n",
      "[[ 0. 10. 20.]\n",
      " [30. 40. 50.]\n",
      " [60. 70. 80.]]\n",
      "\n",
      "\n",
      "Divide the two arrays:\n",
      "[[0.  0.1 0.2]\n",
      " [0.3 0.4 0.5]\n",
      " [0.6 0.7 0.8]]\n"
     ]
    }
   ],
   "source": [
    "import numpy as np\n",
    "a = np.arange(9, dtype = np.float).reshape(3,3) \n",
    "\n",
    "print ('First array:') \n",
    "print (a) \n",
    "print ('\\n')  \n",
    "\n",
    "print ('Second array:') \n",
    "b = np.array([10,10,10]) \n",
    "print (b) \n",
    "print ('\\n')  \n",
    "\n",
    "print ('Add the two arrays:') \n",
    "print (np.add(a,b)) \n",
    "print ('\\n')  \n",
    "\n",
    "print ('Subtract the two arrays:') \n",
    "print (np.subtract(a,b) )\n",
    "print ('\\n')  \n",
    "\n",
    "print ('Multiply the two arrays:') \n",
    "print (np.multiply(a,b)) \n",
    "print ('\\n')  \n",
    "\n",
    "print ('Divide the two arrays:') \n",
    "print (np.divide(a,b))"
   ]
  },
  {
   "cell_type": "code",
   "execution_count": 4,
   "metadata": {},
   "outputs": [
    {
     "name": "stdout",
     "output_type": "stream",
     "text": [
      "Our array is:\n",
      "[  0.25   1.33   1.     0.   100.  ]\n",
      "\n",
      "\n",
      "After applying reciprocal function:\n",
      "[4.        0.7518797 1.              inf 0.01     ]\n",
      "\n",
      "\n",
      "The second array is:\n",
      "[100]\n",
      "\n",
      "\n",
      "After applying reciprocal function:\n",
      "[0]\n"
     ]
    },
    {
     "name": "stderr",
     "output_type": "stream",
     "text": [
      "F:\\anaconda\\lib\\site-packages\\ipykernel_launcher.py:8: RuntimeWarning: divide by zero encountered in reciprocal\n",
      "  \n"
     ]
    }
   ],
   "source": [
    "a = np.array([0.25, 1.33, 1, 0, 100]) \n",
    "\n",
    "print ('Our array is:') \n",
    "print (a) \n",
    "print ('\\n')  \n",
    "\n",
    "print ('After applying reciprocal function:') \n",
    "print (np.reciprocal(a) )\n",
    "print ('\\n')  \n",
    "\n",
    "b = np.array([100], dtype = int) \n",
    "print ('The second array is:') \n",
    "print (b) \n",
    "print ('\\n')  \n",
    "\n",
    "print ('After applying reciprocal function:') \n",
    "print (np.reciprocal(b)) "
   ]
  },
  {
   "cell_type": "code",
   "execution_count": 5,
   "metadata": {},
   "outputs": [
    {
     "name": "stdout",
     "output_type": "stream",
     "text": [
      "Our array is:\n",
      "[-0.-5.6j  0.+0.2j 11.+0.j   1.+1.j ]\n",
      "\n",
      "\n",
      "Applying real() function:\n",
      "[-0.  0. 11.  1.]\n",
      "\n",
      "\n",
      "Applying imag() function:\n",
      "[-5.6  0.2  0.   1. ]\n",
      "\n",
      "\n",
      "Applying conj() function:\n",
      "[-0.+5.6j  0.-0.2j 11.-0.j   1.-1.j ]\n",
      "\n",
      "\n",
      "Applying angle() function:\n",
      "[-1.57079633  1.57079633  0.          0.78539816]\n",
      "\n",
      "\n",
      "Applying angle() function again (result in degrees)\n",
      "[-90.  90.   0.  45.]\n"
     ]
    }
   ],
   "source": [
    "a = np.array([-5.6j, 0.2j, 11. , 1+1j]) \n",
    "\n",
    "print ('Our array is:') \n",
    "print (a) \n",
    "print ('\\n')  \n",
    "\n",
    "print ('Applying real() function:') \n",
    "print (np.real(a)) \n",
    "print ('\\n')  \n",
    "\n",
    "print ('Applying imag() function:') \n",
    "print (np.imag(a)) \n",
    "print ('\\n')  \n",
    "\n",
    "print ('Applying conj() function:') \n",
    "print (np.conj(a)) \n",
    "print ('\\n')  \n",
    "\n",
    "print ('Applying angle() function:') \n",
    "print (np.angle(a) )\n",
    "print ('\\n')  \n",
    "\n",
    "print ('Applying angle() function again (result in degrees)') \n",
    "print (np.angle(a, deg = True))\n"
   ]
  },
  {
   "cell_type": "code",
   "execution_count": 6,
   "metadata": {},
   "outputs": [
    {
     "name": "stdout",
     "output_type": "stream",
     "text": [
      "Our array is:\n",
      "[[3 7 5]\n",
      " [8 4 3]\n",
      " [2 4 9]]\n",
      "\n",
      "\n",
      "Applying amin() function:\n",
      "[3 3 2]\n",
      "\n",
      "\n",
      "Applying amin() function again:\n",
      "[2 4 3]\n",
      "\n",
      "\n",
      "Applying amax() function:\n",
      "9\n",
      "\n",
      "\n",
      "Applying amax() function again:\n",
      "[8 7 9]\n"
     ]
    }
   ],
   "source": [
    "import numpy as np\n",
    "a = np.array([[3,7,5],[8,4,3],[2,4,9]]) \n",
    "\n",
    "print ('Our array is:') \n",
    "print (a)  \n",
    "print ('\\n')  \n",
    "\n",
    "print ('Applying amin() function:') \n",
    "print (np.amin(a,1)) \n",
    "print ('\\n')  \n",
    "\n",
    "print ('Applying amin() function again:') \n",
    "print (np.amin(a,0)) \n",
    "print ('\\n')  \n",
    "\n",
    "print ('Applying amax() function:') \n",
    "print (np.amax(a)) \n",
    "print ('\\n')  \n",
    "\n",
    "print ('Applying amax() function again:') \n",
    "print (np.amax(a, axis = 0))"
   ]
  },
  {
   "cell_type": "code",
   "execution_count": 7,
   "metadata": {},
   "outputs": [
    {
     "name": "stdout",
     "output_type": "stream",
     "text": [
      "Our array is:\n",
      "[[3 7 5]\n",
      " [8 4 3]\n",
      " [2 4 9]]\n",
      "\n",
      "\n",
      "Applying ptp() function:\n",
      "7\n",
      "\n",
      "\n",
      "Applying ptp() function along axis 1:\n",
      "[4 5 7]\n",
      "\n",
      "\n",
      "Applying ptp() function along axis 0:\n",
      "[6 3 6]\n"
     ]
    }
   ],
   "source": [
    "a = np.array([[3,7,5],[8,4,3],[2,4,9]]) \n",
    "\n",
    "print ('Our array is:') \n",
    "print (a) \n",
    "print ('\\n')  \n",
    "\n",
    "print ('Applying ptp() function:') \n",
    "print (np.ptp(a)) \n",
    "print ('\\n')  \n",
    "\n",
    "print ('Applying ptp() function along axis 1:') \n",
    "print (np.ptp(a, axis = 1)) \n",
    "print ('\\n')   \n",
    "\n",
    "print ('Applying ptp() function along axis 0:')\n",
    "print (np.ptp(a, axis = 0)) "
   ]
  },
  {
   "cell_type": "code",
   "execution_count": 2,
   "metadata": {},
   "outputs": [
    {
     "name": "stdout",
     "output_type": "stream",
     "text": [
      "Our array is:\n",
      "[[30 40 70]\n",
      " [80 20 10]\n",
      " [50 90 60]]\n",
      "\n",
      "\n",
      "Applying percentile() function:\n",
      "50.0\n",
      "\n",
      "\n",
      "Applying percentile() function along axis 1:\n",
      "[40. 20. 60.]\n",
      "\n",
      "\n",
      "Applying percentile() function along axis 0:\n",
      "[50. 40. 60.]\n"
     ]
    }
   ],
   "source": [
    "import numpy as np\n",
    "a = np.array([[30,40,70],[80,20,10],[50,90,60]]) \n",
    "\n",
    "print ('Our array is:') \n",
    "print (a) \n",
    "print ('\\n')  \n",
    "\n",
    "print ('Applying percentile() function:') \n",
    "print (np.percentile(a,50)) \n",
    "print ('\\n')  \n",
    "\n",
    "print ('Applying percentile() function along axis 1:') \n",
    "print (np.percentile(a,50, axis = 1)) \n",
    "print ('\\n')  \n",
    "\n",
    "print ('Applying percentile() function along axis 0:') \n",
    "print (np.percentile(a,50, axis = 0))"
   ]
  },
  {
   "cell_type": "code",
   "execution_count": 6,
   "metadata": {},
   "outputs": [
    {
     "name": "stdout",
     "output_type": "stream",
     "text": [
      "Our array is:\n",
      "[3 3 2]\n",
      "\n",
      "\n",
      "Applying argsort() to x:\n",
      "[2 0 1]\n",
      "\n",
      "\n"
     ]
    }
   ],
   "source": [
    "x = np.array([3, 3, 2]) \n",
    "\n",
    "print ('Our array is:') \n",
    "print (x) \n",
    "print ('\\n')  \n",
    "\n",
    "print ('Applying argsort() to x:') \n",
    "y = np.argsort(x) \n",
    "print (y) \n",
    "print ('\\n')  "
   ]
  },
  {
   "cell_type": "code",
   "execution_count": 2,
   "metadata": {},
   "outputs": [
    {
     "name": "stdout",
     "output_type": "stream",
     "text": [
      "Our array is:\n",
      "[[30 40  0]\n",
      " [ 0 20 10]\n",
      " [50  0 60]]\n",
      "\n",
      "\n",
      "Applying nonzero() function:\n",
      "(array([0, 0, 1, 1, 2, 2], dtype=int64), array([0, 1, 1, 2, 0, 2], dtype=int64))\n"
     ]
    }
   ],
   "source": [
    "import numpy as np \n",
    "a = np.array([[30,40,0],[0,20,10],[50,0,60]]) \n",
    "\n",
    "print ('Our array is:') \n",
    "print (a) \n",
    "print ('\\n')  \n",
    "\n",
    "print ('Applying nonzero() function:') \n",
    "print (np.nonzero (a))"
   ]
  },
  {
   "cell_type": "code",
   "execution_count": 3,
   "metadata": {},
   "outputs": [
    {
     "name": "stdout",
     "output_type": "stream",
     "text": [
      "Our array is:\n",
      "[[0. 1. 2.]\n",
      " [3. 4. 5.]\n",
      " [6. 7. 8.]]\n",
      "Indices of elements > 3\n",
      "(array([1, 1, 2, 2, 2], dtype=int64), array([1, 2, 0, 1, 2], dtype=int64))\n",
      "Use these indices to get elements satisfying the condition\n",
      "[4. 5. 6. 7. 8.]\n"
     ]
    }
   ],
   "source": [
    "x = np.arange(9.).reshape(3, 3) \n",
    "\n",
    "print ('Our array is:')\n",
    "print (x)  \n",
    "\n",
    "print ('Indices of elements > 3') \n",
    "y = np.where(x > 3) \n",
    "print (y)  \n",
    "\n",
    "print ('Use these indices to get elements satisfying the condition') \n",
    "print (x[y])"
   ]
  },
  {
   "cell_type": "code",
   "execution_count": 4,
   "metadata": {},
   "outputs": [
    {
     "name": "stdout",
     "output_type": "stream",
     "text": [
      "Our array is:\n",
      "[[0. 1. 2.]\n",
      " [3. 4. 5.]\n",
      " [6. 7. 8.]]\n",
      "Element-wise value of condition\n",
      "[[ True False  True]\n",
      " [False  True False]\n",
      " [ True False  True]]\n",
      "Extract elements using condition\n",
      "[0. 2. 4. 6. 8.]\n"
     ]
    }
   ],
   "source": [
    "x = np.arange(9.).reshape(3, 3) \n",
    "\n",
    "print ('Our array is:') \n",
    "print (x)  \n",
    "\n",
    "# define a condition \n",
    "condition = np.mod(x,2) == 0 \n",
    "\n",
    "print ('Element-wise value of condition') \n",
    "print (condition)  \n",
    "\n",
    "print ('Extract elements using condition') \n",
    "print (np.extract(condition, x))"
   ]
  },
  {
   "cell_type": "code",
   "execution_count": 5,
   "metadata": {},
   "outputs": [
    {
     "name": "stdout",
     "output_type": "stream",
     "text": [
      "Our array is:\n",
      "[   1  256 8755]\n",
      "Representation of data in memory in hexadecimal form:\n",
      "<map object at 0x00000192F3FBB208>\n",
      "Applying byteswap() function:\n",
      "[  256     1 13090]\n",
      "In hexadecimal form:\n",
      "<map object at 0x00000192F3FBB208>\n"
     ]
    }
   ],
   "source": [
    "a = np.array([1, 256, 8755], dtype = np.int16) \n",
    "\n",
    "print ('Our array is:') \n",
    "print (a)  \n",
    "\n",
    "print ('Representation of data in memory in hexadecimal form:')  \n",
    "print (map(hex,a))  \n",
    "# byteswap() function swaps in place by passing True parameter \n",
    "\n",
    "print ('Applying byteswap() function:') \n",
    "print (a.byteswap(True)) \n",
    "\n",
    "print ('In hexadecimal form:') \n",
    "print (map(hex,a)) "
   ]
  },
  {
   "cell_type": "code",
   "execution_count": 8,
   "metadata": {},
   "outputs": [
    {
     "name": "stdout",
     "output_type": "stream",
     "text": [
      "[[1. 0. 0. 0.]\n",
      " [0. 1. 0. 0.]\n",
      " [0. 0. 1. 0.]]\n"
     ]
    }
   ],
   "source": [
    "import numpy.matlib \n",
    "import numpy as np \n",
    "print (np.matlib.eye(n = 3, M = 4, k = 0, dtype = float))"
   ]
  },
  {
   "cell_type": "code",
   "execution_count": 10,
   "metadata": {},
   "outputs": [
    {
     "data": {
      "image/png": "[encoded data removed]",
      "text/plain": [
       "<Figure size 432x288 with 1 Axes>"
      ]
     },
     "metadata": {
      "needs_background": "light"
     },
     "output_type": "display_data"
    }
   ],
   "source": [
    "import numpy as np \n",
    "from matplotlib import pyplot as plt \n",
    "\n",
    "x = np.arange(1,11) \n",
    "y = 2 * x + 5 \n",
    "plt.title(\"Matplotlib demo\") \n",
    "plt.xlabel(\"x axis caption\") \n",
    "plt.ylabel(\"y axis caption\") \n",
    "plt.plot(x,y) \n",
    "plt.show()"
   ]
  },
  {
   "cell_type": "code",
   "execution_count": 11,
   "metadata": {},
   "outputs": [
    {
     "data": {
      "image/png": "[encoded data removed]",
      "text/plain": [
       "<Figure size 432x288 with 1 Axes>"
      ]
     },
     "metadata": {
      "needs_background": "light"
     },
     "output_type": "display_data"
    }
   ],
   "source": [
    "import numpy as np \n",
    "import matplotlib.pyplot as plt  \n",
    "\n",
    "# Compute the x and y coordinates for points on a sine curve \n",
    "x = np.arange(0, 3 * np.pi, 0.1) \n",
    "y = np.sin(x) \n",
    "plt.title(\"sine wave form\") \n",
    "\n",
    "# Plot the points using matplotlib \n",
    "plt.plot(x, y) \n",
    "plt.show() "
   ]
  },
  {
   "cell_type": "code",
   "execution_count": 12,
   "metadata": {},
   "outputs": [
    {
     "name": "stdout",
     "output_type": "stream",
     "text": [
      "[1. 2. 3. 4. 5.]\n"
     ]
    }
   ],
   "source": [
    "import numpy as np \n",
    "\n",
    "a = np.array([1,2,3,4,5]) \n",
    "np.savetxt('out.txt',a) \n",
    "b = np.loadtxt('out.txt') \n",
    "print (b) "
   ]
  },
  {
   "cell_type": "code",
   "execution_count": 6,
   "metadata": {},
   "outputs": [
    {
     "name": "stdout",
     "output_type": "stream",
     "text": [
      "Our array is:\n",
      "[[30 40 70 55]\n",
      " [80 20 10 73]\n",
      " [50 90 60 56]\n",
      " [23 54 76 91]]\n",
      "\n",
      "\n",
      "Applying percentile() function:\n",
      "71.5\n",
      "\n",
      "\n",
      "Applying percentile() function along axis 1:\n",
      "[56.5 73.7 63.  77.5]\n",
      "\n",
      "\n",
      "Applying percentile() function along axis 0:\n",
      "[40.  47.  65.  64.5]\n"
     ]
    }
   ],
   "source": [
    "import numpy as np\n",
    "a = np.array([[30,40,70,55],[80,20,10,73],[50,90,60,56],[23,54,76,91]]) \n",
    "\n",
    "print ('Our array is:') \n",
    "print (a) \n",
    "print ('\\n')  \n",
    "\n",
    "print ('Applying percentile() function:') \n",
    "print (np.percentile(a,70)) \n",
    "print ('\\n')  \n",
    "\n",
    "print ('Applying percentile() function along axis 1:') \n",
    "print (np.percentile(a,70, axis = 1)) \n",
    "print ('\\n')  \n",
    "\n",
    "print ('Applying percentile() function along axis 0:') \n",
    "print (np.percentile(a,50, axis = 0))"
   ]
  },
  {
   "cell_type": "code",
   "execution_count": 7,
   "metadata": {},
   "outputs": [
    {
     "name": "stdout",
     "output_type": "stream",
     "text": [
      "Series([], dtype: float64)\n"
     ]
    }
   ],
   "source": [
    "import pandas as pd\n",
    "s = pd.Series()\n",
    "print (s)"
   ]
  },
  {
   "cell_type": "code",
   "execution_count": 1,
   "metadata": {},
   "outputs": [
    {
     "name": "stdout",
     "output_type": "stream",
     "text": [
      "0    a\n",
      "1    b\n",
      "2    c\n",
      "3    d\n",
      "dtype: object\n"
     ]
    }
   ],
   "source": [
    "import pandas as pd\n",
    "import numpy as np\n",
    "data = np.array(['a','b','c','d'])\n",
    "s = pd.Series(data)\n",
    "print (s)"
   ]
  },
  {
   "cell_type": "code",
   "execution_count": 2,
   "metadata": {},
   "outputs": [
    {
     "name": "stdout",
     "output_type": "stream",
     "text": [
      "100    a\n",
      "101    b\n",
      "102    c\n",
      "103    d\n",
      "dtype: object\n"
     ]
    }
   ],
   "source": [
    "data = np.array(['a','b','c','d'])\n",
    "s = pd.Series(data,index=[100,101,102,103])\n",
    "print (s)"
   ]
  },
  {
   "cell_type": "code",
   "execution_count": 3,
   "metadata": {},
   "outputs": [
    {
     "name": "stdout",
     "output_type": "stream",
     "text": [
      "a    0.0\n",
      "b    1.0\n",
      "c    2.0\n",
      "dtype: float64\n"
     ]
    }
   ],
   "source": [
    "data = {'a' : 0., 'b' : 1., 'c' : 2.}\n",
    "s = pd.Series(data)\n",
    "print (s)"
   ]
  },
  {
   "cell_type": "code",
   "execution_count": 4,
   "metadata": {},
   "outputs": [
    {
     "name": "stdout",
     "output_type": "stream",
     "text": [
      "b    1.0\n",
      "c    2.0\n",
      "d    NaN\n",
      "a    0.0\n",
      "dtype: float64\n"
     ]
    }
   ],
   "source": [
    "data = {'a' : 0., 'b' : 1., 'c' : 2.}\n",
    "s = pd.Series(data,index=['b','c','d','a'])\n",
    "print (s)"
   ]
  },
  {
   "cell_type": "code",
   "execution_count": 5,
   "metadata": {},
   "outputs": [
    {
     "name": "stdout",
     "output_type": "stream",
     "text": [
      "b    1.0\n",
      "c    2.0\n",
      "d    NaN\n",
      "a    0.0\n",
      "dtype: float64\n"
     ]
    }
   ],
   "source": [
    "data = {'a' : 0., 'b' : 1., 'c' : 2.}\n",
    "s = pd.Series(data,index=['b','c','d','a'])\n",
    "print (s)"
   ]
  },
  {
   "cell_type": "code",
   "execution_count": 6,
   "metadata": {},
   "outputs": [
    {
     "name": "stdout",
     "output_type": "stream",
     "text": [
      "0    5\n",
      "1    5\n",
      "2    5\n",
      "3    5\n",
      "dtype: int64\n"
     ]
    }
   ],
   "source": [
    "s = pd.Series(5, index=[0, 1, 2, 3])\n",
    "print (s)"
   ]
  },
  {
   "cell_type": "code",
   "execution_count": 13,
   "metadata": {},
   "outputs": [
    {
     "name": "stdout",
     "output_type": "stream",
     "text": [
      "4\n"
     ]
    }
   ],
   "source": [
    "s = pd.Series([1,2,3,4,5],index = ['a','b','c','d','e'])\n",
    "\n",
    "#retrieve the first element\n",
    "print (s.d)"
   ]
  },
  {
   "cell_type": "code",
   "execution_count": 14,
   "metadata": {},
   "outputs": [
    {
     "name": "stdout",
     "output_type": "stream",
     "text": [
      "a    1\n",
      "b    2\n",
      "c    3\n",
      "dtype: int64\n"
     ]
    }
   ],
   "source": [
    "s = pd.Series([1,2,3,4,5],index = ['a','b','c','d','e'])\n",
    "\n",
    "#retrieve the first three element\n",
    "print (s[:3])"
   ]
  },
  {
   "cell_type": "code",
   "execution_count": 15,
   "metadata": {},
   "outputs": [
    {
     "name": "stdout",
     "output_type": "stream",
     "text": [
      "c    3\n",
      "d    4\n",
      "e    5\n",
      "dtype: int64\n"
     ]
    }
   ],
   "source": [
    "s = pd.Series([1,2,3,4,5],index = ['a','b','c','d','e'])\n",
    "\n",
    "#retrieve the last three element\n",
    "print (s[-3:])"
   ]
  },
  {
   "cell_type": "code",
   "execution_count": 18,
   "metadata": {},
   "outputs": [
    {
     "name": "stdout",
     "output_type": "stream",
     "text": [
      "1\n"
     ]
    }
   ],
   "source": [
    "s = pd.Series([1,2,3,4,5],index = ['a','b','c','d','e'])\n",
    "\n",
    "#retrieve a single element\n",
    "print (s['a'])"
   ]
  },
  {
   "cell_type": "code",
   "execution_count": 19,
   "metadata": {},
   "outputs": [
    {
     "name": "stdout",
     "output_type": "stream",
     "text": [
      "a    1\n",
      "c    3\n",
      "d    4\n",
      "dtype: int64\n"
     ]
    }
   ],
   "source": [
    "s = pd.Series([1,2,3,4,5],index = ['a','b','c','d','e'])\n",
    "\n",
    "#retrieve multiple elements\n",
    "print (s[['a','c','d']])"
   ]
  },
  {
   "cell_type": "code",
   "execution_count": 20,
   "metadata": {},
   "outputs": [
    {
     "name": "stdout",
     "output_type": "stream",
     "text": [
      "Empty DataFrame\n",
      "Columns: []\n",
      "Index: []\n"
     ]
    }
   ],
   "source": [
    "import pandas as pd\n",
    "df = pd.DataFrame()\n",
    "print (df)"
   ]
  },
  {
   "cell_type": "code",
   "execution_count": 21,
   "metadata": {},
   "outputs": [
    {
     "name": "stdout",
     "output_type": "stream",
     "text": [
      "   0\n",
      "0  1\n",
      "1  2\n",
      "2  3\n",
      "3  4\n",
      "4  5\n"
     ]
    }
   ],
   "source": [
    "data = [1,2,3,4,5]\n",
    "df = pd.DataFrame(data)\n",
    "print (df)"
   ]
  },
  {
   "cell_type": "code",
   "execution_count": 22,
   "metadata": {},
   "outputs": [
    {
     "name": "stdout",
     "output_type": "stream",
     "text": [
      "     Name  Age\n",
      "0    Alex   10\n",
      "1     Bob   12\n",
      "2  Clarke   13\n"
     ]
    }
   ],
   "source": [
    "data = [['Alex',10],['Bob',12],['Clarke',13]]\n",
    "df = pd.DataFrame(data,columns=['Name','Age'])\n",
    "print (df)"
   ]
  },
  {
   "cell_type": "code",
   "execution_count": 23,
   "metadata": {},
   "outputs": [
    {
     "name": "stdout",
     "output_type": "stream",
     "text": [
      "    Name  Age\n",
      "0    Tom   28\n",
      "1   Jack   34\n",
      "2  Steve   29\n",
      "3  Ricky   42\n"
     ]
    }
   ],
   "source": [
    "data = {'Name':['Tom', 'Jack', 'Steve', 'Ricky'],'Age':[28,34,29,42]}\n",
    "df = pd.DataFrame(data)\n",
    "print (df)"
   ]
  },
  {
   "cell_type": "code",
   "execution_count": 24,
   "metadata": {},
   "outputs": [
    {
     "name": "stdout",
     "output_type": "stream",
     "text": [
      "        Name  Age\n",
      "rank1    Tom   28\n",
      "rank2   Jack   34\n",
      "rank3  Steve   29\n",
      "rank4  Ricky   42\n"
     ]
    }
   ],
   "source": [
    "data = {'Name':['Tom', 'Jack', 'Steve', 'Ricky'],'Age':[28,34,29,42]}\n",
    "df = pd.DataFrame(data, index=['rank1','rank2','rank3','rank4'])\n",
    "print (df)"
   ]
  },
  {
   "cell_type": "code",
   "execution_count": 25,
   "metadata": {},
   "outputs": [
    {
     "name": "stdout",
     "output_type": "stream",
     "text": [
      "   a   b     c\n",
      "0  1   2   NaN\n",
      "1  5  10  20.0\n"
     ]
    }
   ],
   "source": [
    "data = [{'a': 1, 'b': 2},{'a': 5, 'b': 10, 'c': 20}]\n",
    "df = pd.DataFrame(data)\n",
    "print (df)"
   ]
  },
  {
   "cell_type": "code",
   "execution_count": 10,
   "metadata": {},
   "outputs": [
    {
     "name": "stdout",
     "output_type": "stream",
     "text": [
      "        a   b\n",
      "first   1   2\n",
      "second  5  10\n",
      "        a  b1\n",
      "first   1 NaN\n",
      "second  5 NaN\n"
     ]
    }
   ],
   "source": [
    "import pandas as pd\n",
    "data = [{'a': 1, 'b': 2},{'a': 5, 'b': 10, 'c': 20}]\n",
    "\n",
    "#With two column indices, values same as dictionary keys\n",
    "df1 = pd.DataFrame(data, index=['first', 'second'], columns=['a', 'b'])\n",
    "\n",
    "#With two column indices with one index with other name\n",
    "df2 = pd.DataFrame(data, index=['first', 'second'], columns=['a', 'b1'])\n",
    "print (df1)\n",
    "print (df2)"
   ]
  },
  {
   "cell_type": "code",
   "execution_count": 25,
   "metadata": {},
   "outputs": [
    {
     "name": "stdout",
     "output_type": "stream",
     "text": [
      "a    1.0\n",
      "b    2.0\n",
      "c    3.0\n",
      "d    NaN\n",
      "Name: one, dtype: float64\n",
      "\n",
      "\n",
      "a    1\n",
      "b    2\n",
      "c    3\n",
      "d    4\n",
      "Name: two, dtype: int64\n",
      "\n",
      "\n",
      "adding column three n four\n",
      "   one  two  three\n",
      "a  1.0    1   10.0\n",
      "b  2.0    2   20.0\n",
      "c  3.0    3   30.0\n",
      "d  NaN    4    NaN\n",
      "\n",
      "\n",
      "   one  two  three  four\n",
      "a  1.0    1   10.0  10.0\n",
      "b  2.0    2   20.0  40.0\n",
      "c  3.0    3   30.0  90.0\n",
      "d  NaN    4    NaN   NaN\n",
      "\n",
      "\n",
      "   one  three  four\n",
      "a  1.0   10.0  10.0\n",
      "b  2.0   20.0  40.0\n",
      "c  3.0   30.0  90.0\n",
      "d  NaN    NaN   NaN\n",
      "\n",
      "\n",
      "   one  four\n",
      "a  1.0  10.0\n",
      "b  2.0  40.0\n",
      "c  3.0  90.0\n",
      "d  NaN   NaN\n",
      "\n",
      "\n",
      "one      3.0\n",
      "four    90.0\n",
      "Name: c, dtype: float64\n"
     ]
    }
   ],
   "source": [
    "import pandas as pd\n",
    "d={'one':pd.Series([1,2,3],index=['a','b','c']),\n",
    "  'two':pd.Series([1,2,3,4],index=['a','b','c','d'])}\n",
    "df=pd.DataFrame(d)\n",
    "print(df['one'])\n",
    "print('\\n')\n",
    "\n",
    "print(df['two'])\n",
    "print('\\n')\n",
    "\n",
    "print(\"adding column three n four\")\n",
    "df['three']=pd.Series([10,20,30],index=['a','b','c'])\n",
    "print(df)\n",
    "print('\\n')\n",
    "\n",
    "df['four']=df['one']*df['three']\n",
    "print(df)\n",
    "print('\\n')\n",
    "\n",
    "del df['two']\n",
    "print(df)\n",
    "print('\\n')\n",
    "\n",
    "df.pop('three')\n",
    "print(df)\n",
    "print('\\n')\n",
    "\n",
    "print(df.loc['c'])"
   ]
  },
  {
   "cell_type": "code",
   "execution_count": 27,
   "metadata": {},
   "outputs": [
    {
     "name": "stdout",
     "output_type": "stream",
     "text": [
      "   one  two\n",
      "a  1.0    1\n",
      "b  2.0    2\n",
      "c  3.0    3\n",
      "d  NaN    4\n",
      "\n",
      "\n",
      "one    3.0\n",
      "two    3.0\n",
      "Name: c, dtype: float64\n"
     ]
    }
   ],
   "source": [
    "d = {'one' : pd.Series([1, 2, 3], index=['a', 'b', 'c']),\n",
    "   'two' : pd.Series([1, 2, 3, 4], index=['a', 'b', 'c', 'd'])}\n",
    "\n",
    "df = pd.DataFrame(d)\n",
    "print(df)\n",
    "print('\\n')\n",
    "print (df.iloc[2])"
   ]
  },
  {
   "cell_type": "code",
   "execution_count": 29,
   "metadata": {},
   "outputs": [
    {
     "name": "stdout",
     "output_type": "stream",
     "text": [
      "   one  two\n",
      "b  2.0    2\n",
      "c  3.0    3\n",
      "d  NaN    4\n"
     ]
    }
   ],
   "source": [
    "d = {'one' : pd.Series([1, 2, 3], index=['a', 'b', 'c']), \n",
    "   'two' : pd.Series([1, 2, 3, 4], index=['a', 'b', 'c', 'd'])}\n",
    "\n",
    "df = pd.DataFrame(d)\n",
    "print (df[1:4])"
   ]
  },
  {
   "cell_type": "code",
   "execution_count": 2,
   "metadata": {},
   "outputs": [
    {
     "name": "stdout",
     "output_type": "stream",
     "text": [
      "   a  b   c\n",
      "0  1  2  43\n",
      "1  3  4  45\n",
      "0  5  6  34\n",
      "1  7  8  33\n",
      "\n",
      "\n",
      "   a  b   c\n",
      "1  3  4  45\n",
      "1  7  8  33\n"
     ]
    }
   ],
   "source": [
    "import pandas as pd\n",
    "\n",
    "df = pd.DataFrame([[1, 2, 43], [3, 4, 45]], columns = ['a','b','c'])\n",
    "df2 = pd.DataFrame([[5, 6, 34], [7, 8, 33]], columns = ['a','b','c'])\n",
    "df = df.append(df2)\n",
    "print(df)\n",
    "print('\\n')\n",
    "\n",
    "df=df.drop(0)\n",
    "print(df)\n"
   ]
  },
  {
   "cell_type": "code",
   "execution_count": 3,
   "metadata": {},
   "outputs": [
    {
     "name": "stdout",
     "output_type": "stream",
     "text": [
      "<class 'pandas.core.panel.Panel'>\n",
      "Dimensions: 2 (items) x 4 (major_axis) x 5 (minor_axis)\n",
      "Items axis: 0 to 1\n",
      "Major_axis axis: 0 to 3\n",
      "Minor_axis axis: 0 to 4\n"
     ]
    }
   ],
   "source": [
    "import pandas as pd\n",
    "import numpy as np\n",
    "\n",
    "data = np.random.rand(2,4,5)\n",
    "p = pd.Panel(data)\n",
    "print (p)"
   ]
  },
  {
   "cell_type": "code",
   "execution_count": 4,
   "metadata": {},
   "outputs": [
    {
     "name": "stdout",
     "output_type": "stream",
     "text": [
      "<class 'pandas.core.panel.Panel'>\n",
      "Dimensions: 2 (items) x 4 (major_axis) x 3 (minor_axis)\n",
      "Items axis: Item1 to Item2\n",
      "Major_axis axis: 0 to 3\n",
      "Minor_axis axis: 0 to 2\n"
     ]
    }
   ],
   "source": [
    "data = {'Item1' : pd.DataFrame(np.random.randn(4, 3)), \n",
    "   'Item2' : pd.DataFrame(np.random.randn(4, 2))}\n",
    "p = pd.Panel(data)\n",
    "print (p)"
   ]
  },
  {
   "cell_type": "code",
   "execution_count": 8,
   "metadata": {},
   "outputs": [
    {
     "name": "stdout",
     "output_type": "stream",
     "text": [
      "      Item1     Item2\n",
      "0  0.467329  0.583981\n",
      "1 -0.115873  0.576388\n",
      "2  0.597103       NaN\n"
     ]
    }
   ],
   "source": [
    "data = {'Item1' : pd.DataFrame(np.random.randn(4, 3)), \n",
    "   'Item2' : pd.DataFrame(np.random.randn(4, 2))}\n",
    "p = pd.Panel(data)\n",
    "print (p.major_xs(1))"
   ]
  },
  {
   "cell_type": "code",
   "execution_count": 9,
   "metadata": {},
   "outputs": [
    {
     "name": "stdout",
     "output_type": "stream",
     "text": [
      "      Item1     Item2\n",
      "0  0.899585 -0.761697\n",
      "1  1.915481  0.572643\n",
      "2 -1.546680 -1.283797\n",
      "3 -0.005039 -0.494117\n"
     ]
    }
   ],
   "source": [
    "data = {'Item1' : pd.DataFrame(np.random.randn(4, 3)), \n",
    "   'Item2' : pd.DataFrame(np.random.randn(4, 2))}\n",
    "p = pd.Panel(data)\n",
    "print (p.minor_xs(1))"
   ]
  },
  {
   "cell_type": "code",
   "execution_count": 10,
   "metadata": {},
   "outputs": [
    {
     "name": "stdout",
     "output_type": "stream",
     "text": [
      "0   -0.399498\n",
      "1   -1.781575\n",
      "2   -1.830027\n",
      "3    0.046175\n",
      "dtype: float64\n"
     ]
    }
   ],
   "source": [
    "s = pd.Series(np.random.randn(4))\n",
    "print (s)"
   ]
  },
  {
   "cell_type": "code",
   "execution_count": 11,
   "metadata": {},
   "outputs": [
    {
     "name": "stdout",
     "output_type": "stream",
     "text": [
      "The axes are:\n",
      "[RangeIndex(start=0, stop=4, step=1)]\n"
     ]
    }
   ],
   "source": [
    "cs = pd.Series(np.random.randn(4))\n",
    "print (\"The axes are:\")\n",
    "print (s.axes)"
   ]
  },
  {
   "cell_type": "code",
   "execution_count": 17,
   "metadata": {},
   "outputs": [
    {
     "name": "stdout",
     "output_type": "stream",
     "text": [
      "Is the Object empty?\n",
      "False\n",
      "1\n",
      "4\n",
      "[ 1.73012764 -1.19043181  0.26563134 -0.17271932]\n",
      "2    0.265631\n",
      "3   -0.172719\n",
      "dtype: float64\n",
      "0    1.730128\n",
      "1   -1.190432\n",
      "dtype: float64\n"
     ]
    }
   ],
   "source": [
    "s = pd.Series(np.random.randn(4))\n",
    "print (\"Is the Object empty?\")\n",
    "print (s.empty)\n",
    "print(s.ndim)\n",
    "print(s.size)\n",
    "print(s.values)\n",
    "print(s.tail(2))\n",
    "print(s.head(2))"
   ]
  },
  {
   "cell_type": "code",
   "execution_count": 25,
   "metadata": {},
   "outputs": [
    {
     "name": "stdout",
     "output_type": "stream",
     "text": [
      "Our data series is:\n",
      "    Name  Age  Rating\n",
      "0    Tom   25    4.23\n",
      "1  James   26    3.24\n",
      "2  Ricky   25    3.98\n",
      "3    Vin   23    2.56\n",
      "4  Steve   30    3.20\n",
      "5  Smith   29    4.60\n",
      "6   Jack   23    3.80\n",
      "\n",
      "\n",
      "           0      1      2     3      4      5     6\n",
      "Name     Tom  James  Ricky   Vin  Steve  Smith  Jack\n",
      "Age       25     26     25    23     30     29    23\n",
      "Rating  4.23   3.24   3.98  2.56    3.2    4.6   3.8\n",
      "\n",
      "\n",
      "[RangeIndex(start=0, stop=7, step=1), Index(['Name', 'Age', 'Rating'], dtype='object')]\n",
      "\n",
      "\n",
      "Name       object\n",
      "Age         int64\n",
      "Rating    float64\n",
      "dtype: object\n",
      "\n",
      "\n",
      "False\n",
      "\n",
      "\n",
      "2\n",
      "\n",
      "\n",
      "(7, 3)\n",
      "\n",
      "\n",
      "21\n",
      "\n",
      "\n",
      "[['Tom' 25 4.23]\n",
      " ['James' 26 3.24]\n",
      " ['Ricky' 25 3.98]\n",
      " ['Vin' 23 2.56]\n",
      " ['Steve' 30 3.2]\n",
      " ['Smith' 29 4.6]\n",
      " ['Jack' 23 3.8]]\n"
     ]
    }
   ],
   "source": [
    "d = {'Name':pd.Series(['Tom','James','Ricky','Vin','Steve','Smith','Jack']),\n",
    "   'Age':pd.Series([25,26,25,23,30,29,23]),\n",
    "   'Rating':pd.Series([4.23,3.24,3.98,2.56,3.20,4.6,3.8])}\n",
    "\n",
    "#Create a DataFrame\n",
    "df = pd.DataFrame(d)\n",
    "print (\"Our data series is:\")\n",
    "print (df)\n",
    "print('\\n')\n",
    "print(df.T)\n",
    "print('\\n')\n",
    "print(df.axes)\n",
    "print('\\n')\n",
    "print(df.dtypes)\n",
    "print('\\n')\n",
    "print(df.empty)\n",
    "print('\\n')\n",
    "print(df.ndim)\n",
    "print('\\n')\n",
    "print(df.shape)\n",
    "print('\\n')\n",
    "print(df.size)\n",
    "print('\\n')\n",
    "print(df.values)"
   ]
  },
  {
   "cell_type": "code",
   "execution_count": 1,
   "metadata": {},
   "outputs": [
    {
     "name": "stdout",
     "output_type": "stream",
     "text": [
      "      Name  Age  Rating\n",
      "0      Tom   25    4.23\n",
      "1    James   26    3.24\n",
      "2    Ricky   25    3.98\n",
      "3      Vin   23    2.56\n",
      "4    Steve   30    3.20\n",
      "5    Smith   29    4.60\n",
      "6     Jack   23    3.80\n",
      "7      Lee   34    3.78\n",
      "8    David   40    2.98\n",
      "9   Gasper   30    4.80\n",
      "10  Betina   51    4.10\n",
      "11  Andres   46    3.65\n",
      "\n",
      "\n",
      "Name      TomJamesRickyVinSteveSmithJackLeeDavidGasperBe...\n",
      "Age                                                     382\n",
      "Rating                                                44.92\n",
      "dtype: object\n",
      "\n",
      "\n",
      "Age       31.833333\n",
      "Rating     3.743333\n",
      "dtype: float64\n",
      "\n",
      "\n",
      "Age       9.232682\n",
      "Rating    0.661628\n",
      "dtype: float64\n",
      "\n",
      "\n",
      "             Age     Rating\n",
      "count  12.000000  12.000000\n",
      "mean   31.833333   3.743333\n",
      "std     9.232682   0.661628\n",
      "min    23.000000   2.560000\n",
      "25%    25.000000   3.230000\n",
      "50%    29.500000   3.790000\n",
      "75%    35.500000   4.132500\n",
      "max    51.000000   4.800000\n",
      "\n",
      "\n",
      "         Name\n",
      "count      12\n",
      "unique     12\n",
      "top     Steve\n",
      "freq        1\n",
      "\n",
      "\n",
      "         Name        Age     Rating\n",
      "count      12  12.000000  12.000000\n",
      "unique     12        NaN        NaN\n",
      "top     Steve        NaN        NaN\n",
      "freq        1        NaN        NaN\n",
      "mean      NaN  31.833333   3.743333\n",
      "std       NaN   9.232682   0.661628\n",
      "min       NaN  23.000000   2.560000\n",
      "25%       NaN  25.000000   3.230000\n",
      "50%       NaN  29.500000   3.790000\n",
      "75%       NaN  35.500000   4.132500\n",
      "max       NaN  51.000000   4.800000\n"
     ]
    }
   ],
   "source": [
    "import pandas as pd\n",
    "import numpy as np\n",
    "\n",
    "#Create a Dictionary of series\n",
    "d = {'Name':pd.Series(['Tom','James','Ricky','Vin','Steve','Smith','Jack',\n",
    "   'Lee','David','Gasper','Betina','Andres']),\n",
    "   'Age':pd.Series([25,26,25,23,30,29,23,34,40,30,51,46]),\n",
    "   'Rating':pd.Series([4.23,3.24,3.98,2.56,3.20,4.6,3.8,3.78,2.98,4.80,4.10,3.65])\n",
    "}\n",
    "\n",
    "#Create a DataFrame\n",
    "df = pd.DataFrame(d)\n",
    "print (df)\n",
    "print('\\n')\n",
    "print(df.sum())\n",
    "print('\\n')\n",
    "print(df.mean())\n",
    "print('\\n')\n",
    "print(df.std())\n",
    "print('\\n')\n",
    "print(df.describe())\n",
    "print('\\n')\n",
    "print(df.describe(include=['object']))\n",
    "print('\\n')\n",
    "print(df.describe(include='all'))"
   ]
  },
  {
   "cell_type": "code",
   "execution_count": 3,
   "metadata": {},
   "outputs": [
    {
     "name": "stdout",
     "output_type": "stream",
     "text": [
      "col1    0.707146\n",
      "col2    0.504205\n",
      "col3   -0.133638\n",
      "dtype: float64\n"
     ]
    }
   ],
   "source": [
    "\n",
    "import pandas as pd\n",
    "import numpy as np\n",
    "\n",
    "def adder(ele1,ele2):\n",
    "   return ele1+ele2\n",
    "\n",
    "df = pd.DataFrame(np.random.randn(5,3),columns=['col1','col2','col3'])\n",
    "df.pipe(adder,2)\n",
    "print (df.apply(np.mean))"
   ]
  },
  {
   "cell_type": "code",
   "execution_count": 5,
   "metadata": {},
   "outputs": [
    {
     "name": "stdout",
     "output_type": "stream",
     "text": [
      "col1   -0.020246\n",
      "col2   -0.159252\n",
      "col3    0.478298\n",
      "dtype: float64\n",
      "\n",
      "\n",
      "       col1      col2      col3\n",
      "0  0.627170 -0.817706  1.283081\n",
      "1  1.377011 -1.092295  0.179967\n",
      "2 -0.022656  0.677355  1.111204\n",
      "3 -0.800899 -0.342874  0.631149\n",
      "4 -1.281855  0.779259 -0.813912\n"
     ]
    }
   ],
   "source": [
    "import pandas as pd\n",
    "import numpy as np\n",
    "\n",
    "def adder(ele1,ele2):\n",
    "   return ele1+ele2\n",
    "\n",
    "df = pd.DataFrame(np.random.randn(5,3),columns=['col1','col2','col3'])\n",
    "df.pipe(adder,2)\n",
    "print (df.apply(np.mean))\n",
    "print('\\n')\n",
    "print(df)"
   ]
  },
  {
   "cell_type": "code",
   "execution_count": 19,
   "metadata": {},
   "outputs": [
    {
     "name": "stdout",
     "output_type": "stream",
     "text": [
      "   a  b   c\n",
      "0  1  2  43\n",
      "1  3  4  45\n",
      "0  5  6  34\n",
      "1  7  8  33\n",
      "\n",
      "\n",
      "   a   b   c\n",
      "0  3   4  45\n",
      "1  5   6  47\n",
      "0  7   8  36\n",
      "1  9  10  35\n",
      "\n",
      "\n",
      "a     6.00\n",
      "b     7.00\n",
      "c    40.75\n",
      "dtype: float64\n",
      "\n",
      "\n",
      "a     4.00\n",
      "b     5.00\n",
      "c    38.75\n",
      "dtype: float64\n"
     ]
    }
   ],
   "source": [
    "import pandas as pd\n",
    "def adder(ele1,ele2):\n",
    "   return ele1+ele2\n",
    "\n",
    "df = pd.DataFrame([[1, 2, 43], [3, 4, 45]], columns = ['a','b','c'])\n",
    "df2 = pd.DataFrame([[5, 6, 34], [7, 8, 33]], columns = ['a','b','c'])\n",
    "df = df.append(df2)\n",
    "print(df)\n",
    "print('\\n')\n",
    "print(df.pipe(adder,2))\n",
    "print('\\n')\n",
    "print(df.pipe(adder,2).apply(np.mean))\n",
    "print('\\n')\n",
    "print (df.apply(np.mean))"
   ]
  },
  {
   "cell_type": "code",
   "execution_count": 34,
   "metadata": {},
   "outputs": [
    {
     "name": "stdout",
     "output_type": "stream",
     "text": [
      "   a  b   c\n",
      "0  1  2  43\n",
      "1  3  4  45\n",
      "0  5  6  34\n",
      "1  7  8  33\n",
      "\n",
      "\n",
      "0    15.333333\n",
      "1    17.333333\n",
      "0    15.000000\n",
      "1    16.000000\n",
      "dtype: float64\n",
      "a     6\n",
      "b     6\n",
      "c    12\n",
      "dtype: int64\n",
      "\n",
      "\n",
      "a     4.00\n",
      "b     5.00\n",
      "c    38.75\n",
      "dtype: float64\n",
      "\n",
      "\n",
      "0    100\n",
      "1    300\n",
      "0    500\n",
      "1    700\n",
      "Name: a, dtype: int64\n",
      "\n",
      "\n",
      "     a    b     c\n",
      "0  100  200  4300\n",
      "1  300  400  4500\n",
      "0  500  600  3400\n",
      "1  700  800  3300\n"
     ]
    }
   ],
   "source": [
    "df = pd.DataFrame([[1, 2, 43], [3, 4, 45]], columns = ['a','b','c'])\n",
    "df2 = pd.DataFrame([[5, 6, 34], [7, 8, 33]], columns = ['a','b','c'])\n",
    "df = df.append(df2)\n",
    "print(df)\n",
    "print('\\n')\n",
    "print (df.apply(np.mean,axis=1))\n",
    "print(df.apply(lambda x: x.max() - x.min()))\n",
    "\n",
    "print('\\n')\n",
    "print (df.apply(np.mean))\n",
    "print('\\n')\n",
    "print(df['a'].map(lambda x:x*100))\n",
    "print('\\n')\n",
    "print(df.applymap(lambda x:x*100))"
   ]
  },
  {
   "cell_type": "code",
   "execution_count": 35,
   "metadata": {},
   "outputs": [
    {
     "name": "stdout",
     "output_type": "stream",
     "text": [
      "           A       C   B\n",
      "0 2016-01-01  Medium NaN\n",
      "2 2016-01-03     Low NaN\n",
      "5 2016-01-06     Low NaN\n"
     ]
    }
   ],
   "source": [
    "N=20\n",
    "\n",
    "df = pd.DataFrame({\n",
    "   'A': pd.date_range(start='2016-01-01',periods=N,freq='D'),\n",
    "   'x': np.linspace(0,stop=N-1,num=N),\n",
    "   'y': np.random.rand(N),\n",
    "   'C': np.random.choice(['Low','Medium','High'],N).tolist(),\n",
    "   'D': np.random.normal(100, 10, size=(N)).tolist()\n",
    "})\n",
    "\n",
    "#reindex the DataFrame\n",
    "df_reindexed = df.reindex(index=[0,2,5], columns=['A', 'C', 'B'])\n",
    "\n",
    "print (df_reindexed)"
   ]
  },
  {
   "cell_type": "code",
   "execution_count": 36,
   "metadata": {},
   "outputs": [
    {
     "name": "stdout",
     "output_type": "stream",
     "text": [
      "       col1      col2      col3\n",
      "0 -1.438757  0.502731 -0.813774\n",
      "1  0.974548 -0.969707 -0.119314\n",
      "2 -1.549444 -0.577473 -1.230329\n",
      "3 -0.442588 -0.466577  1.188108\n",
      "4  1.627917  1.516973  1.212486\n",
      "5 -2.005064  2.201033 -0.089541\n",
      "6  0.558908 -0.478092 -0.148103\n"
     ]
    }
   ],
   "source": [
    "df1 = pd.DataFrame(np.random.randn(10,3),columns=['col1','col2','col3'])\n",
    "df2 = pd.DataFrame(np.random.randn(7,3),columns=['col1','col2','col3'])\n",
    "\n",
    "df1 = df1.reindex_like(df2)\n",
    "print (df1)"
   ]
  },
  {
   "cell_type": "code",
   "execution_count": 41,
   "metadata": {},
   "outputs": [
    {
     "name": "stdout",
     "output_type": "stream",
     "text": [
      "       col1      col2      col3\n",
      "0  0.649446 -0.299339  0.323875\n",
      "1  2.373149 -1.277636  1.920383\n",
      "2       NaN       NaN       NaN\n",
      "3       NaN       NaN       NaN\n",
      "4       NaN       NaN       NaN\n",
      "5       NaN       NaN       NaN\n",
      "Data Frame with Forward Fill limiting to 1:\n",
      "       col1      col2      col3\n",
      "0  0.649446 -0.299339  0.323875\n",
      "1  2.373149 -1.277636  1.920383\n",
      "2  2.373149 -1.277636  1.920383\n",
      "3       NaN       NaN       NaN\n",
      "4       NaN       NaN       NaN\n",
      "5       NaN       NaN       NaN\n"
     ]
    }
   ],
   "source": [
    "df1 = pd.DataFrame(np.random.randn(6,3),columns=['col1','col2','col3'])\n",
    "df2 = pd.DataFrame(np.random.randn(2,3),columns=['col1','col2','col3'])\n",
    "\n",
    "# Padding NAN's\n",
    "print (df2.reindex_like(df1))\n",
    "\n",
    "# Now Fill the NAN's with preceding Values\n",
    "print ((\"Data Frame with Forward Fill limiting to 1:\"))\n",
    "print (df2.reindex_like(df1,method='ffill',limit=1))"
   ]
  },
  {
   "cell_type": "code",
   "execution_count": 1,
   "metadata": {},
   "outputs": [
    {
     "name": "stdout",
     "output_type": "stream",
     "text": [
      "A\n",
      "x\n",
      "y\n",
      "C\n",
      "D\n"
     ]
    }
   ],
   "source": [
    "import pandas as pd\n",
    "import numpy as np\n",
    " \n",
    "N=20\n",
    "df = pd.DataFrame({\n",
    "   'A': pd.date_range(start='2016-01-01',periods=N,freq='D'),\n",
    "   'x': np.linspace(0,stop=N-1,num=N),\n",
    "   'y': np.random.rand(N),\n",
    "   'C': np.random.choice(['Low','Medium','High'],N).tolist(),\n",
    "   'D': np.random.normal(100, 10, size=(N)).tolist()\n",
    "   })\n",
    "\n",
    "for col in df:\n",
    "   print (col)"
   ]
  },
  {
   "cell_type": "code",
   "execution_count": 2,
   "metadata": {},
   "outputs": [
    {
     "name": "stdout",
     "output_type": "stream",
     "text": [
      "col1 0   -0.761040\n",
      "1    0.247871\n",
      "2   -1.252371\n",
      "3    0.478428\n",
      "Name: col1, dtype: float64\n",
      "col2 0   -0.953065\n",
      "1   -0.175618\n",
      "2    0.193507\n",
      "3    0.392594\n",
      "Name: col2, dtype: float64\n",
      "col3 0    0.210860\n",
      "1    0.479729\n",
      "2    1.106995\n",
      "3    1.396690\n",
      "Name: col3, dtype: float64\n"
     ]
    }
   ],
   "source": [
    "df = pd.DataFrame(np.random.randn(4,3),columns=['col1','col2','col3'])\n",
    "for key,value in df.iteritems():\n",
    "   print (key,value)"
   ]
  },
  {
   "cell_type": "code",
   "execution_count": 3,
   "metadata": {},
   "outputs": [
    {
     "name": "stdout",
     "output_type": "stream",
     "text": [
      "0 col1    0.728688\n",
      "col2    0.854263\n",
      "col3    0.181909\n",
      "Name: 0, dtype: float64\n",
      "1 col1    0.213039\n",
      "col2   -0.675420\n",
      "col3   -0.066582\n",
      "Name: 1, dtype: float64\n",
      "2 col1    0.380473\n",
      "col2    0.542329\n",
      "col3   -0.454064\n",
      "Name: 2, dtype: float64\n",
      "3 col1    0.480167\n",
      "col2    1.041534\n",
      "col3    1.137184\n",
      "Name: 3, dtype: float64\n"
     ]
    }
   ],
   "source": [
    "df = pd.DataFrame(np.random.randn(4,3),columns = ['col1','col2','col3'])\n",
    "for row_index,row in df.iterrows():\n",
    "   print (row_index,row)"
   ]
  },
  {
   "cell_type": "code",
   "execution_count": 4,
   "metadata": {},
   "outputs": [
    {
     "name": "stdout",
     "output_type": "stream",
     "text": [
      "Pandas(Index=0, col1=0.007043875916737287, col2=-0.2753554697277566, col3=0.3409789344445306)\n",
      "Pandas(Index=1, col1=-1.3584228528573274, col2=0.043224519575368055, col3=0.273561074368956)\n",
      "Pandas(Index=2, col1=-0.5929981213935736, col2=0.7565816173604938, col3=-2.6286325725099724)\n",
      "Pandas(Index=3, col1=0.7159640892139194, col2=-0.8578037408110752, col3=-1.1059433221240023)\n"
     ]
    }
   ],
   "source": [
    "df = pd.DataFrame(np.random.randn(4,3),columns = ['col1','col2','col3'])\n",
    "for row in df.itertuples():\n",
    "    print (row)"
   ]
  },
  {
   "cell_type": "code",
   "execution_count": 5,
   "metadata": {},
   "outputs": [
    {
     "name": "stdout",
     "output_type": "stream",
     "text": [
      "       col1      col2      col3\n",
      "0 -1.397978 -1.430986  1.373345\n",
      "1 -0.584403 -0.194928  0.071636\n",
      "2 -1.077771  0.866503  1.714139\n",
      "3  2.143988  0.954608 -1.288068\n"
     ]
    }
   ],
   "source": [
    "df = pd.DataFrame(np.random.randn(4,3),columns = ['col1','col2','col3'])\n",
    "\n",
    "for index, row in df.iterrows():\n",
    "   row['a'] = 10\n",
    "print (df)"
   ]
  },
  {
   "cell_type": "code",
   "execution_count": 7,
   "metadata": {},
   "outputs": [
    {
     "name": "stdout",
     "output_type": "stream",
     "text": [
      "       col2      col1\n",
      "1  1.402062 -0.618711\n",
      "4 -0.694449 -2.110788\n",
      "6 -0.509100  0.926917\n",
      "2  1.677210  0.447433\n",
      "3  0.299802  1.286549\n",
      "5 -1.544671  0.252749\n",
      "9 -0.728180  0.589332\n",
      "8 -1.855781  0.105676\n",
      "0  0.081226 -1.732369\n",
      "7 -1.735216 -1.389573\n"
     ]
    }
   ],
   "source": [
    "unsorted_df=pd.DataFrame(np.random.randn(10,2),index=[1,4,6,2,3,5,9,8,0,7],columns=['col2','col1'])\n",
    "print (unsorted_df)"
   ]
  },
  {
   "cell_type": "code",
   "execution_count": 8,
   "metadata": {},
   "outputs": [
    {
     "name": "stdout",
     "output_type": "stream",
     "text": [
      "       col2      col1\n",
      "0  0.327612 -0.541320\n",
      "1 -0.133544  0.345079\n",
      "2  0.416785  0.354424\n",
      "3 -0.140605 -0.032069\n",
      "4  0.390441  0.605103\n",
      "5 -0.819166  0.880358\n",
      "6 -1.322752  1.148129\n",
      "7 -0.900158  1.682739\n",
      "8  0.680676 -0.597955\n",
      "9 -0.138846 -2.617095\n"
     ]
    }
   ],
   "source": [
    "unsorted_df = pd.DataFrame(np.random.randn(10,2),index=[1,4,6,2,3,5,9,8,0,7],columns = ['col2','col1'])\n",
    "\n",
    "sorted_df=unsorted_df.sort_index()\n",
    "print (sorted_df)"
   ]
  },
  {
   "cell_type": "code",
   "execution_count": 9,
   "metadata": {},
   "outputs": [
    {
     "name": "stdout",
     "output_type": "stream",
     "text": [
      "       col2      col1\n",
      "9 -0.308789 -0.965604\n",
      "8  2.220130 -1.893080\n",
      "7 -1.979413  0.929098\n",
      "6  0.726299  1.255268\n",
      "5  0.588926  1.290776\n",
      "4 -1.084601 -1.345446\n",
      "3 -1.647509  0.174773\n",
      "2 -0.086700  1.528263\n",
      "1  0.933214 -1.353568\n",
      "0  1.024968 -0.759246\n"
     ]
    }
   ],
   "source": [
    "unsorted_df = pd.DataFrame(np.random.randn(10,2),index=[1,4,6,2,3,5,9,8,0,7],columns = ['col2','col1'])\n",
    "\n",
    "sorted_df = unsorted_df.sort_index(ascending=False)\n",
    "print (sorted_df)"
   ]
  },
  {
   "cell_type": "code",
   "execution_count": 10,
   "metadata": {},
   "outputs": [
    {
     "name": "stdout",
     "output_type": "stream",
     "text": [
      "       col1      col2\n",
      "1  0.147248  0.991561\n",
      "4 -2.548775  1.269224\n",
      "6  0.248964 -1.115193\n",
      "2  0.702703 -0.186911\n",
      "3 -0.659297  1.651692\n",
      "5 -0.705215 -0.228602\n",
      "9  0.824806 -1.345684\n",
      "8  1.271573  0.895318\n",
      "0  0.234440 -2.135058\n",
      "7 -1.049233 -1.381010\n"
     ]
    }
   ],
   "source": [
    "unsorted_df = pd.DataFrame(np.random.randn(10,2),index=[1,4,6,2,3,5,9,8,0,7],columns = ['col2','col1'])\n",
    " \n",
    "sorted_df=unsorted_df.sort_index(axis=1)\n",
    "\n",
    "print (sorted_df)"
   ]
  },
  {
   "cell_type": "code",
   "execution_count": 14,
   "metadata": {},
   "outputs": [
    {
     "name": "stdout",
     "output_type": "stream",
     "text": [
      "   col1  col2\n",
      "1     1     3\n",
      "2     1     2\n",
      "3     1     4\n",
      "0     2     1\n"
     ]
    }
   ],
   "source": [
    "unsorted_df = pd.DataFrame({'col1':[2,1,1,1],'col2':[1,3,2,4]})\n",
    "sorted_df = unsorted_df.sort_values(by='col1')\n",
    "\n",
    "print (sorted_df)"
   ]
  },
  {
   "cell_type": "code",
   "execution_count": 16,
   "metadata": {},
   "outputs": [
    {
     "name": "stdout",
     "output_type": "stream",
     "text": [
      "   col1  col2\n",
      "2     1     2\n",
      "1     1     3\n",
      "3     1     4\n",
      "0     2     1\n"
     ]
    }
   ],
   "source": [
    "unsorted_df = pd.DataFrame({'col1':[2,1,1,1],'col2':[1,3,2,4]})\n",
    "sorted_df = unsorted_df.sort_values(by=['col1','col2'])\n",
    "\n",
    "print (sorted_df)"
   ]
  },
  {
   "cell_type": "code",
   "execution_count": 17,
   "metadata": {},
   "outputs": [
    {
     "name": "stdout",
     "output_type": "stream",
     "text": [
      "   col1  col2\n",
      "1     1     3\n",
      "2     1     2\n",
      "3     1     4\n",
      "0     2     1\n"
     ]
    }
   ],
   "source": [
    "unsorted_df = pd.DataFrame({'col1':[2,1,1,1],'col2':[1,3,2,4]})\n",
    "sorted_df = unsorted_df.sort_values(by='col1' ,kind='mergesort')\n",
    "\n",
    "print (sorted_df)"
   ]
  },
  {
   "cell_type": "code",
   "execution_count": 28,
   "metadata": {},
   "outputs": [
    {
     "name": "stdout",
     "output_type": "stream",
     "text": [
      "0             Tom\n",
      "1    William Rick\n",
      "2            John\n",
      "3         Alber@t\n",
      "4             NaN\n",
      "5            1234\n",
      "6      SteveSmith\n",
      "dtype: object\n",
      "\n",
      "\n",
      "0             tom\n",
      "1    william rick\n",
      "2            john\n",
      "3         alber@t\n",
      "4             NaN\n",
      "5            1234\n",
      "6      stevesmith\n",
      "dtype: object\n",
      "\n",
      "\n",
      "0     3.0\n",
      "1    12.0\n",
      "2     4.0\n",
      "3     7.0\n",
      "4     NaN\n",
      "5     4.0\n",
      "6    10.0\n",
      "dtype: float64\n",
      "\n",
      "\n",
      "0              [Tom]\n",
      "1    [William, Rick]\n",
      "2             [John]\n",
      "3          [Alber@t]\n",
      "4                NaN\n",
      "5             [1234]\n",
      "6       [SteveSmith]\n",
      "dtype: object\n",
      "\n",
      "\n",
      "Tom_William Rick_John_Alber@t_1234_SteveSmith\n",
      "\n",
      "\n",
      "   1234  Alber@t  John  SteveSmith  Tom  William Rick\n",
      "0     0        0     0           0    1             0\n",
      "1     0        0     0           0    0             1\n",
      "2     0        0     1           0    0             0\n",
      "3     0        1     0           0    0             0\n",
      "4     0        0     0           0    0             0\n",
      "5     1        0     0           0    0             0\n",
      "6     0        0     0           1    0             0\n",
      "\n",
      "\n",
      "0    False\n",
      "1     True\n",
      "2    False\n",
      "3    False\n",
      "4      NaN\n",
      "5    False\n",
      "6    False\n",
      "dtype: object\n",
      "\n",
      "\n",
      "0             Tom\n",
      "1    William Rick\n",
      "2            John\n",
      "3         Alber$t\n",
      "4             NaN\n",
      "5            1234\n",
      "6      SteveSmith\n",
      "dtype: object\n",
      "\n",
      "\n",
      "0                      TomTom\n",
      "1    William RickWilliam Rick\n",
      "2                    JohnJohn\n",
      "3              Alber@tAlber@t\n",
      "4                         NaN\n",
      "5                    12341234\n",
      "6        SteveSmithSteveSmith\n",
      "dtype: object\n",
      "\n",
      "\n",
      "0    1.0\n",
      "1    1.0\n",
      "2    0.0\n",
      "3    0.0\n",
      "4    NaN\n",
      "5    0.0\n",
      "6    1.0\n",
      "dtype: float64\n",
      "\n",
      "\n"
     ]
    }
   ],
   "source": [
    "s = pd.Series(['Tom', 'William Rick', 'John', 'Alber@t', np.nan, '1234','SteveSmith'])\n",
    "\n",
    "print (s)\n",
    "print('\\n')\n",
    "print (s.str.lower())\n",
    "print('\\n')\n",
    "print (s.str.len())\n",
    "print('\\n')\n",
    "print (s.str.split(' '))\n",
    "print('\\n')\n",
    "print (s.str.cat(sep='_'))\n",
    "print('\\n')\n",
    "print (s.str.get_dummies())\n",
    "print('\\n')\n",
    "print (s.str.contains(' '))\n",
    "print('\\n')\n",
    "print (s.str.replace('@','$'))\n",
    "print('\\n')\n",
    "print (s.str.repeat(2))\n",
    "print('\\n')\n",
    "print (s.str.count('m'))\n",
    "print('\\n')"
   ]
  },
  {
   "cell_type": "code",
   "execution_count": 30,
   "metadata": {},
   "outputs": [
    {
     "name": "stdout",
     "output_type": "stream",
     "text": [
      "a    0.571170\n",
      "b   -0.598135\n",
      "c    1.099724\n",
      "d   -0.154297\n",
      "e   -1.102994\n",
      "f    0.008012\n",
      "g   -0.512186\n",
      "h    0.898236\n",
      "Name: A, dtype: float64\n",
      "\n",
      "\n",
      "          A         C\n",
      "a  0.571170 -1.273822\n",
      "b -0.598135 -0.272346\n",
      "f  0.008012 -1.695514\n",
      "h  0.898236  0.253876\n"
     ]
    }
   ],
   "source": [
    "import pandas as pd\n",
    "import numpy as np\n",
    "\n",
    "df = pd.DataFrame(np.random.randn(8, 4),\n",
    "index = ['a','b','c','d','e','f','g','h'], columns = ['A', 'B', 'C', 'D'])\n",
    "\n",
    "#select all rows for a specific column\n",
    "print (df.loc[:,'A'])\n",
    "print('\\n')\n",
    "print (df.loc[['a','b','f','h'],['A','C']])"
   ]
  },
  {
   "cell_type": "code",
   "execution_count": 31,
   "metadata": {},
   "outputs": [
    {
     "name": "stdout",
     "output_type": "stream",
     "text": [
      "A     True\n",
      "B    False\n",
      "C    False\n",
      "D     True\n",
      "Name: a, dtype: bool\n"
     ]
    }
   ],
   "source": [
    "print (df.loc['a']>0)"
   ]
  },
  {
   "cell_type": "code",
   "execution_count": 32,
   "metadata": {},
   "outputs": [
    {
     "name": "stdout",
     "output_type": "stream",
     "text": [
      "          A         B         C         D\n",
      "a  0.571170 -0.921320 -1.273822  0.058297\n",
      "b -0.598135  1.294191 -0.272346 -0.246129\n",
      "c  1.099724 -0.992188  1.275366 -1.171470\n",
      "d -0.154297 -1.024611  1.100564 -2.026304\n",
      "          C         D\n",
      "b -0.272346 -0.246129\n",
      "c  1.275366 -1.171470\n",
      "d  1.100564 -2.026304\n",
      "e -0.360548  0.977120\n"
     ]
    }
   ],
   "source": [
    "print (df.iloc[:4])\n",
    "print (df.iloc[1:5, 2:4])"
   ]
  },
  {
   "cell_type": "code",
   "execution_count": 33,
   "metadata": {},
   "outputs": [
    {
     "name": "stdout",
     "output_type": "stream",
     "text": [
      "          A         B         C         D\n",
      "a  0.571170 -0.921320 -1.273822  0.058297\n",
      "b -0.598135  1.294191 -0.272346 -0.246129\n",
      "c  1.099724 -0.992188  1.275366 -1.171470\n",
      "d -0.154297 -1.024611  1.100564 -2.026304\n"
     ]
    },
    {
     "name": "stderr",
     "output_type": "stream",
     "text": [
      "F:\\anaconda\\lib\\site-packages\\ipykernel_launcher.py:1: DeprecationWarning: \n",
      ".ix is deprecated. Please use\n",
      ".loc for label based indexing or\n",
      ".iloc for positional indexing\n",
      "\n",
      "See the documentation here:\n",
      "http://pandas.pydata.org/pandas-docs/stable/indexing.html#ix-indexer-is-deprecated\n",
      "  \"\"\"Entry point for launching an IPython kernel.\n"
     ]
    }
   ],
   "source": [
    "print (df.ix[:4])"
   ]
  },
  {
   "cell_type": "code",
   "execution_count": 34,
   "metadata": {},
   "outputs": [
    {
     "name": "stdout",
     "output_type": "stream",
     "text": [
      "0   -1.093931\n",
      "1    1.109366\n",
      "2   -0.647535\n",
      "3    1.723998\n",
      "4    0.857593\n",
      "5   -0.622543\n",
      "6   -1.196846\n",
      "7   -0.147206\n",
      "Name: A, dtype: float64\n"
     ]
    },
    {
     "name": "stderr",
     "output_type": "stream",
     "text": [
      "F:\\anaconda\\lib\\site-packages\\ipykernel_launcher.py:3: DeprecationWarning: \n",
      ".ix is deprecated. Please use\n",
      ".loc for label based indexing or\n",
      ".iloc for positional indexing\n",
      "\n",
      "See the documentation here:\n",
      "http://pandas.pydata.org/pandas-docs/stable/indexing.html#ix-indexer-is-deprecated\n",
      "  This is separate from the ipykernel package so we can avoid doing imports until\n"
     ]
    }
   ],
   "source": [
    "df = pd.DataFrame(np.random.randn(8, 4), columns = ['A', 'B', 'C', 'D'])\n",
    "# Index slicing\n",
    "print (df.ix[:,'A'])"
   ]
  },
  {
   "cell_type": "code",
   "execution_count": 35,
   "metadata": {},
   "outputs": [
    {
     "name": "stdout",
     "output_type": "stream",
     "text": [
      "          A         B\n",
      "0 -1.093931 -0.224639\n",
      "1  1.109366  0.039957\n",
      "2 -0.647535 -0.470357\n",
      "3  1.723998  0.385806\n",
      "4  0.857593  0.644251\n",
      "5 -0.622543 -1.016438\n",
      "6 -1.196846 -1.691619\n",
      "7 -0.147206 -0.236863\n"
     ]
    }
   ],
   "source": [
    "print (df[['A','B']])"
   ]
  },
  {
   "cell_type": "code",
   "execution_count": 36,
   "metadata": {},
   "outputs": [
    {
     "name": "stdout",
     "output_type": "stream",
     "text": [
      "0   -1.093931\n",
      "1    1.109366\n",
      "2   -0.647535\n",
      "3    1.723998\n",
      "4    0.857593\n",
      "5   -0.622543\n",
      "6   -1.196846\n",
      "7   -0.147206\n",
      "Name: A, dtype: float64\n"
     ]
    }
   ],
   "source": [
    "print (df.A)"
   ]
  },
  {
   "cell_type": "code",
   "execution_count": 37,
   "metadata": {},
   "outputs": [
    {
     "name": "stdout",
     "output_type": "stream",
     "text": [
      "0         NaN\n",
      "1    1.000000\n",
      "2    0.500000\n",
      "3    0.333333\n",
      "4    0.250000\n",
      "5   -0.200000\n",
      "dtype: float64\n",
      "          0         1\n",
      "0       NaN       NaN\n",
      "1 -0.390834 -4.004532\n",
      "2 -3.976383 -1.541573\n",
      "3 -1.430892  1.749453\n",
      "4  0.472103 -1.063282\n"
     ]
    }
   ],
   "source": [
    "s = pd.Series([1,2,3,4,5,4])\n",
    "print (s.pct_change())\n",
    "\n",
    "df = pd.DataFrame(np.random.randn(5, 2))\n",
    "print (df.pct_change())"
   ]
  },
  {
   "cell_type": "code",
   "execution_count": 38,
   "metadata": {},
   "outputs": [
    {
     "name": "stdout",
     "output_type": "stream",
     "text": [
      "0.5605566117300328\n"
     ]
    }
   ],
   "source": [
    "s1 = pd.Series(np.random.randn(10))\n",
    "s2 = pd.Series(np.random.randn(10))\n",
    "print (s1.cov(s2))"
   ]
  },
  {
   "cell_type": "code",
   "execution_count": 39,
   "metadata": {},
   "outputs": [
    {
     "name": "stdout",
     "output_type": "stream",
     "text": [
      "-0.2276448446427218\n",
      "          a         b         c         d         e\n",
      "a  1.059902 -0.227645 -0.125222 -0.650286 -0.096496\n",
      "b -0.227645  1.203681 -0.247531 -0.288968  0.490439\n",
      "c -0.125222 -0.247531  1.365728  0.125182  0.015141\n",
      "d -0.650286 -0.288968  0.125182  1.445965 -0.216608\n",
      "e -0.096496  0.490439  0.015141 -0.216608  0.472045\n"
     ]
    }
   ],
   "source": [
    "frame = pd.DataFrame(np.random.randn(10, 5), columns=['a', 'b', 'c', 'd', 'e'])\n",
    "print (frame['a'].cov(frame['b']))\n",
    "print (frame.cov())"
   ]
  },
  {
   "cell_type": "code",
   "execution_count": 40,
   "metadata": {},
   "outputs": [
    {
     "name": "stdout",
     "output_type": "stream",
     "text": [
      "-0.20154363627619523\n",
      "          a         b         c         d         e\n",
      "a  1.000000 -0.201544 -0.104079 -0.525282 -0.136423\n",
      "b -0.201544  1.000000 -0.193060 -0.219036  0.650635\n",
      "c -0.104079 -0.193060  1.000000  0.089080  0.018857\n",
      "d -0.525282 -0.219036  0.089080  1.000000 -0.262182\n",
      "e -0.136423  0.650635  0.018857 -0.262182  1.000000\n"
     ]
    }
   ],
   "source": [
    "print (frame['a'].corr(frame['b']))\n",
    "print (frame.corr())"
   ]
  },
  {
   "cell_type": "code",
   "execution_count": 41,
   "metadata": {},
   "outputs": [
    {
     "name": "stdout",
     "output_type": "stream",
     "text": [
      "a    4.0\n",
      "b    1.5\n",
      "c    3.0\n",
      "d    1.5\n",
      "e    5.0\n",
      "dtype: float64\n"
     ]
    }
   ],
   "source": [
    "s = pd.Series(np.random.np.random.randn(5), index=list('abcde'))\n",
    "s['d'] = s['b'] # so there's a tie\n",
    "print (s.rank())"
   ]
  },
  {
   "cell_type": "code",
   "execution_count": 5,
   "metadata": {},
   "outputs": [
    {
     "name": "stdout",
     "output_type": "stream",
     "text": [
      "                   A         B         C         D\n",
      "2000-01-01       NaN       NaN       NaN       NaN\n",
      "2000-01-02       NaN       NaN       NaN       NaN\n",
      "2000-01-03  0.152327  0.033212  0.045557  0.156553\n",
      "2000-01-04  0.067409  0.798639 -0.160797 -0.578376\n",
      "2000-01-05  0.070522  0.816446 -0.101852 -1.238180\n",
      "2000-01-06  0.634753 -0.191384  0.207245 -1.937726\n",
      "2000-01-07  0.608006 -0.829687  0.136878 -1.614126\n",
      "2000-01-08  0.399454 -1.362507 -0.381463 -0.744699\n",
      "2000-01-09  0.276983 -0.615887 -1.140489 -0.042153\n",
      "2000-01-10  0.702186 -0.590001 -1.187826 -0.199045\n"
     ]
    }
   ],
   "source": [
    "df = pd.DataFrame(np.random.randn(10, 4),index = pd.date_range('1/1/2000', periods=10),columns = ['A', 'B', 'C', 'D'])\n",
    "print (df.rolling(window=3).mean())"
   ]
  },
  {
   "cell_type": "code",
   "execution_count": 7,
   "metadata": {},
   "outputs": [
    {
     "name": "stdout",
     "output_type": "stream",
     "text": [
      "        one       two     three\n",
      "a  0.553525  1.212906 -2.380976\n",
      "b       NaN       NaN       NaN\n",
      "c  0.313585  0.128883 -0.586612\n",
      "d       NaN       NaN       NaN\n",
      "e -0.190696 -1.305886 -0.685251\n",
      "f -2.240450  0.308796 -0.945308\n",
      "g       NaN       NaN       NaN\n",
      "h -0.975078  0.813649 -0.477439\n",
      "\n",
      "\n",
      "a    False\n",
      "b     True\n",
      "c    False\n",
      "d     True\n",
      "e    False\n",
      "f    False\n",
      "g     True\n",
      "h    False\n",
      "Name: one, dtype: bool\n",
      "\n",
      "\n",
      "a     True\n",
      "b    False\n",
      "c     True\n",
      "d    False\n",
      "e     True\n",
      "f     True\n",
      "g    False\n",
      "h     True\n",
      "Name: one, dtype: bool\n",
      "\n",
      "\n",
      "1.1583470349832692\n"
     ]
    }
   ],
   "source": [
    "import pandas as pd\n",
    "import numpy as np\n",
    "\n",
    "df = pd.DataFrame(np.random.randn(5, 3), index=['a', 'c', 'e', 'f',\n",
    "'h'],columns=['one', 'two', 'three'])\n",
    "\n",
    "df = df.reindex(['a', 'b', 'c', 'd', 'e', 'f', 'g', 'h'])\n",
    "\n",
    "print (df)\n",
    "print('\\n')\n",
    "print(df['one'].isnull())\n",
    "print('\\n')\n",
    "print(df['one'].notnull())\n",
    "print('\\n')\n",
    "print(df['two'].sum())"
   ]
  },
  {
   "cell_type": "code",
   "execution_count": 8,
   "metadata": {},
   "outputs": [
    {
     "name": "stdout",
     "output_type": "stream",
     "text": [
      "0\n",
      "\n",
      "\n",
      "   one  two\n",
      "0  NaN  NaN\n",
      "1  NaN  NaN\n",
      "2  NaN  NaN\n",
      "3  NaN  NaN\n",
      "4  NaN  NaN\n",
      "5  NaN  NaN\n"
     ]
    }
   ],
   "source": [
    "df = pd.DataFrame(index=[0,1,2,3,4,5],columns=['one','two'])\n",
    "print (df['one'].sum())\n",
    "print('\\n')\n",
    "print(df)"
   ]
  },
  {
   "cell_type": "code",
   "execution_count": 11,
   "metadata": {},
   "outputs": [
    {
     "name": "stdout",
     "output_type": "stream",
     "text": [
      "        one       two     three\n",
      "a -2.219394  0.468497  0.631915\n",
      "b       NaN       NaN       NaN\n",
      "c  1.679112  0.343033 -0.698510\n",
      "NaN replaced with '0':\n",
      "        one       two     three\n",
      "a -2.219394  0.468497  0.631915\n",
      "b  8.000000  8.000000  8.000000\n",
      "c  1.679112  0.343033 -0.698510\n"
     ]
    }
   ],
   "source": [
    "df = pd.DataFrame(np.random.randn(3, 3), index=['a', 'c', 'e'],columns=['one',\n",
    "'two', 'three'])\n",
    "\n",
    "df = df.reindex(['a', 'b', 'c'])\n",
    "\n",
    "print (df)\n",
    "print (\"NaN replaced with '0':\")\n",
    "print (df.fillna(8))"
   ]
  },
  {
   "cell_type": "code",
   "execution_count": 38,
   "metadata": {},
   "outputs": [
    {
     "name": "stdout",
     "output_type": "stream",
     "text": [
      "        one       two     three\n",
      "a -0.868186 -0.295306 -0.054790\n",
      "b -0.868186 -0.295306 -0.054790\n",
      "c  0.793401 -0.436217 -0.225428\n",
      "d  0.793401 -0.436217 -0.225428\n",
      "e -1.203072  0.587727 -0.185581\n",
      "f -1.315503 -0.475359  2.379164\n",
      "g -1.315503 -0.475359  2.379164\n",
      "h  1.273006  0.132123  0.595629\n",
      "\n",
      "\n",
      "        one       two     three\n",
      "a -0.868186 -0.295306 -0.054790\n",
      "b  0.793401 -0.436217 -0.225428\n",
      "c  0.793401 -0.436217 -0.225428\n",
      "d -1.203072  0.587727 -0.185581\n",
      "e -1.203072  0.587727 -0.185581\n",
      "f -1.315503 -0.475359  2.379164\n",
      "g  1.273006  0.132123  0.595629\n",
      "h  1.273006  0.132123  0.595629\n",
      "\n",
      "\n",
      "        one       two     three\n",
      "a -0.868186 -0.295306 -0.054790\n",
      "c  0.793401 -0.436217 -0.225428\n",
      "e -1.203072  0.587727 -0.185581\n",
      "f -1.315503 -0.475359  2.379164\n",
      "h  1.273006  0.132123  0.595629\n",
      "\n",
      "\n",
      "Empty DataFrame\n",
      "Columns: []\n",
      "Index: [a, b, c, d, e, f, g, h]\n"
     ]
    }
   ],
   "source": [
    "df = pd.DataFrame(np.random.randn(5, 3), index=['a', 'c', 'e', 'f',\n",
    "'h'],columns=['one', 'two', 'three'])\n",
    "\n",
    "df = df.reindex(['a', 'b', 'c', 'd', 'e', 'f', 'g', 'h'])\n",
    "\n",
    "print (df.fillna(method='pad'))\n",
    "print('\\n')\n",
    "print(df.fillna(method='backfill'))\n",
    "print('\\n')\n",
    "print(df.dropna())\n",
    "print('\\n')\n",
    "print(df.dropna(axis=1))"
   ]
  },
  {
   "cell_type": "code",
   "execution_count": 18,
   "metadata": {},
   "outputs": [
    {
     "name": "stdout",
     "output_type": "stream",
     "text": [
      "   one  two\n",
      "0   10   10\n",
      "1   20   20\n",
      "2   30   30\n",
      "3   40   40\n",
      "4   50   50\n",
      "5   60   60\n"
     ]
    }
   ],
   "source": [
    "df = pd.DataFrame({'one':[10,20,30,40,50,2000], 'two':[1000,0,30,40,50,60]})\n",
    "\n",
    "print (df.replace({2000:60,1000:10,0:20}))"
   ]
  },
  {
   "cell_type": "code",
   "execution_count": 26,
   "metadata": {},
   "outputs": [
    {
     "name": "stdout",
     "output_type": "stream",
     "text": [
      "      Team  Rank  Year  Points\n",
      "0   Riders     1  2014     876\n",
      "1   Riders     2  2015     789\n",
      "2   Devils     2  2014     863\n",
      "3   Devils     3  2015     673\n",
      "4    Kings     3  2014     741\n",
      "5    kings     4  2015     812\n",
      "6    Kings     1  2016     756\n",
      "7    Kings     1  2017     788\n",
      "8   Riders     2  2016     694\n",
      "9   Royals     4  2014     701\n",
      "10  Royals     1  2015     804\n",
      "11  Riders     2  2017     690\n",
      "\n",
      "\n",
      "{'Devils': Int64Index([2, 3], dtype='int64'), 'Kings': Int64Index([4, 6, 7], dtype='int64'), 'Riders': Int64Index([0, 1, 8, 11], dtype='int64'), 'Royals': Int64Index([9, 10], dtype='int64'), 'kings': Int64Index([5], dtype='int64')}\n",
      "\n",
      "\n",
      "{('Devils', 2014): Int64Index([2], dtype='int64'), ('Devils', 2015): Int64Index([3], dtype='int64'), ('Kings', 2014): Int64Index([4], dtype='int64'), ('Kings', 2016): Int64Index([6], dtype='int64'), ('Kings', 2017): Int64Index([7], dtype='int64'), ('Riders', 2014): Int64Index([0], dtype='int64'), ('Riders', 2015): Int64Index([1], dtype='int64'), ('Riders', 2016): Int64Index([8], dtype='int64'), ('Riders', 2017): Int64Index([11], dtype='int64'), ('Royals', 2014): Int64Index([9], dtype='int64'), ('Royals', 2015): Int64Index([10], dtype='int64'), ('kings', 2015): Int64Index([5], dtype='int64')}\n"
     ]
    }
   ],
   "source": [
    "ipl_data = {'Team': ['Riders', 'Riders', 'Devils', 'Devils', 'Kings',\n",
    "   'kings', 'Kings', 'Kings', 'Riders', 'Royals', 'Royals', 'Riders'],\n",
    "   'Rank': [1, 2, 2, 3, 3,4 ,1 ,1,2 , 4,1,2],\n",
    "   'Year': [2014,2015,2014,2015,2014,2015,2016,2017,2016,2014,2015,2017],\n",
    "   'Points':[876,789,863,673,741,812,756,788,694,701,804,690]}\n",
    "df = pd.DataFrame(ipl_data)\n",
    "\n",
    "print (df)\n",
    "print('\\n')\n",
    "print(df.groupby('Team').groups)\n",
    "print('\\n')\n",
    "print (df.groupby(['Team','Year']).groups)"
   ]
  },
  {
   "cell_type": "code",
   "execution_count": 33,
   "metadata": {},
   "outputs": [
    {
     "name": "stdout",
     "output_type": "stream",
     "text": [
      "2014\n",
      "     Team  Rank  Year  Points\n",
      "0  Riders     1  2014     876\n",
      "2  Devils     2  2014     863\n",
      "4   Kings     3  2014     741\n",
      "9  Royals     4  2014     701\n",
      "2015\n",
      "      Team  Rank  Year  Points\n",
      "1   Riders     2  2015     789\n",
      "3   Devils     3  2015     673\n",
      "5    kings     4  2015     812\n",
      "10  Royals     1  2015     804\n",
      "2016\n",
      "     Team  Rank  Year  Points\n",
      "6   Kings     1  2016     756\n",
      "8  Riders     2  2016     694\n",
      "2017\n",
      "      Team  Rank  Year  Points\n",
      "7    Kings     1  2017     788\n",
      "11  Riders     2  2017     690\n",
      "\n",
      "\n",
      "     Team  Rank  Year  Points\n",
      "0  Riders     1  2014     876\n",
      "2  Devils     2  2014     863\n",
      "4   Kings     3  2014     741\n",
      "9  Royals     4  2014     701\n",
      "\n",
      "\n",
      "Year\n",
      "2014    795.25\n",
      "2015    769.50\n",
      "2016    725.00\n",
      "2017    739.00\n",
      "Name: Points, dtype: float64\n",
      "\n",
      "\n",
      "      Team  Rank  Points\n",
      "Year                    \n",
      "2014     4     4       4\n",
      "2015     4     4       4\n",
      "2016     2     2       2\n",
      "2017     2     2       2\n",
      "\n",
      "\n",
      "       sum    mean        std\n",
      "Year                         \n",
      "2014  3181  795.25  87.439026\n",
      "2015  3078  769.50  65.035888\n",
      "2016  1450  725.00  43.840620\n",
      "2017  1478  739.00  69.296465\n",
      "\n",
      "\n",
      "         Rank     Points\n",
      "0  -11.618950   9.235007\n",
      "1   -3.872983   2.998345\n",
      "2   -3.872983   7.748256\n",
      "3    3.872983 -14.837962\n",
      "4    3.872983  -6.204323\n",
      "5   11.618950   6.534854\n",
      "6   -7.071068   7.071068\n",
      "7   -7.071068   7.071068\n",
      "8    7.071068  -7.071068\n",
      "9   11.618950 -10.778940\n",
      "10 -11.618950   5.304763\n",
      "11   7.071068  -7.071068\n",
      "\n",
      "\n",
      "      Team  Rank  Year  Points\n",
      "0   Riders     1  2014     876\n",
      "1   Riders     2  2015     789\n",
      "4    Kings     3  2014     741\n",
      "6    Kings     1  2016     756\n",
      "7    Kings     1  2017     788\n",
      "8   Riders     2  2016     694\n",
      "11  Riders     2  2017     690\n"
     ]
    }
   ],
   "source": [
    "df = pd.DataFrame(ipl_data)\n",
    "\n",
    "grouped = df.groupby('Year')\n",
    "\n",
    "for name,group in grouped:\n",
    "    print (name)\n",
    "    print (group)\n",
    "    \n",
    "print('\\n')\n",
    "print (grouped.get_group(2014))\n",
    "print('\\n')\n",
    "print (grouped['Points'].agg(np.mean))\n",
    "print('\\n')\n",
    "print (grouped.agg(np.size))\n",
    "print('\\n')\n",
    "print (grouped['Points'].agg([np.sum, np.mean, np.std]))\n",
    "print('\\n')\n",
    "score = lambda x: (x - x.mean()) / x.std()*10\n",
    "print (grouped.transform(score))\n",
    "print('\\n')\n",
    "print (df.groupby('Team').filter(lambda x: len(x) >= 3))"
   ]
  },
  {
   "cell_type": "code",
   "execution_count": 35,
   "metadata": {},
   "outputs": [
    {
     "name": "stdout",
     "output_type": "stream",
     "text": [
      "   id    Name subject_id\n",
      "0   1    Alex       sub1\n",
      "1   2     Amy       sub2\n",
      "2   3   Allen       sub4\n",
      "3   4   Alice       sub6\n",
      "4   5  Ayoung       sub5\n",
      "\n",
      "\n",
      "   id   Name subject_id\n",
      "0   1  Billy       sub2\n",
      "1   2  Brian       sub4\n",
      "2   3   Bran       sub3\n",
      "3   4  Bryce       sub6\n",
      "4   5  Betty       sub5\n"
     ]
    }
   ],
   "source": [
    "left = pd.DataFrame({\n",
    "   'id':[1,2,3,4,5],\n",
    "   'Name': ['Alex', 'Amy', 'Allen', 'Alice', 'Ayoung'],\n",
    "   'subject_id':['sub1','sub2','sub4','sub6','sub5']})\n",
    "right = pd.DataFrame(\n",
    "   {'id':[1,2,3,4,5],\n",
    "   'Name': ['Billy', 'Brian', 'Bran', 'Bryce', 'Betty'],\n",
    "   'subject_id':['sub2','sub4','sub3','sub6','sub5']})\n",
    "print (left)\n",
    "print('\\n')\n",
    "print (right)"
   ]
  },
  {
   "cell_type": "code",
   "execution_count": 36,
   "metadata": {},
   "outputs": [
    {
     "name": "stdout",
     "output_type": "stream",
     "text": [
      "   id  Name_x subject_id_x Name_y subject_id_y\n",
      "0   1    Alex         sub1  Billy         sub2\n",
      "1   2     Amy         sub2  Brian         sub4\n",
      "2   3   Allen         sub4   Bran         sub3\n",
      "3   4   Alice         sub6  Bryce         sub6\n",
      "4   5  Ayoung         sub5  Betty         sub5\n"
     ]
    }
   ],
   "source": [
    "print (pd.merge(left,right,on='id'))"
   ]
  },
  {
   "cell_type": "code",
   "execution_count": 39,
   "metadata": {},
   "outputs": [
    {
     "name": "stdout",
     "output_type": "stream",
     "text": [
      "   id  Name_x subject_id Name_y\n",
      "0   4   Alice       sub6  Bryce\n",
      "1   5  Ayoung       sub5  Betty\n"
     ]
    }
   ],
   "source": [
    "print (pd.merge(left,right,on=['id','subject_id']))"
   ]
  },
  {
   "cell_type": "code",
   "execution_count": 41,
   "metadata": {},
   "outputs": [
    {
     "name": "stdout",
     "output_type": "stream",
     "text": [
      "   id_x  Name_x subject_id  id_y Name_y\n",
      "0     1    Alex       sub1   NaN    NaN\n",
      "1     2     Amy       sub2   1.0  Billy\n",
      "2     3   Allen       sub4   2.0  Brian\n",
      "3     4   Alice       sub6   4.0  Bryce\n",
      "4     5  Ayoung       sub5   5.0  Betty\n"
     ]
    }
   ],
   "source": [
    "print (pd.merge(left, right, on='subject_id', how='left'))"
   ]
  },
  {
   "cell_type": "code",
   "execution_count": 43,
   "metadata": {},
   "outputs": [
    {
     "name": "stdout",
     "output_type": "stream",
     "text": [
      "   id_x  Name_x subject_id  id_y Name_y\n",
      "0   2.0     Amy       sub2     1  Billy\n",
      "1   3.0   Allen       sub4     2  Brian\n",
      "2   4.0   Alice       sub6     4  Bryce\n",
      "3   5.0  Ayoung       sub5     5  Betty\n",
      "4   NaN     NaN       sub3     3   Bran\n"
     ]
    }
   ],
   "source": [
    "print (pd.merge(left, right, on='subject_id', how='right'))"
   ]
  },
  {
   "cell_type": "code",
   "execution_count": 46,
   "metadata": {},
   "outputs": [
    {
     "name": "stdout",
     "output_type": "stream",
     "text": [
      "   id_x  Name_x subject_id  id_y Name_y\n",
      "0   1.0    Alex       sub1   NaN    NaN\n",
      "1   2.0     Amy       sub2   1.0  Billy\n",
      "2   3.0   Allen       sub4   2.0  Brian\n",
      "3   4.0   Alice       sub6   4.0  Bryce\n",
      "4   5.0  Ayoung       sub5   5.0  Betty\n",
      "5   NaN     NaN       sub3   3.0   Bran\n",
      "\n",
      "\n",
      "   id_x  Name_x subject_id  id_y Name_y\n",
      "0     2     Amy       sub2     1  Billy\n",
      "1     3   Allen       sub4     2  Brian\n",
      "2     4   Alice       sub6     4  Bryce\n",
      "3     5  Ayoung       sub5     5  Betty\n"
     ]
    }
   ],
   "source": [
    "print (pd.merge(left, right, how='outer', on='subject_id'))\n",
    "print('\\n')\n",
    "print (pd.merge(left, right, on='subject_id', how='inner'))\n"
   ]
  },
  {
   "cell_type": "code",
   "execution_count": 50,
   "metadata": {},
   "outputs": [
    {
     "name": "stdout",
     "output_type": "stream",
     "text": [
      "        0     1   2      3     4   5\n",
      "1    Alex  sub1  98  Billy  sub2  89\n",
      "2     Amy  sub2  90  Brian  sub4  80\n",
      "3   Allen  sub4  87   Bran  sub3  79\n",
      "4   Alice  sub6  69  Bryce  sub6  97\n",
      "5  Ayoung  sub5  78  Betty  sub5  88\n"
     ]
    }
   ],
   "source": [
    "one = pd.DataFrame({\n",
    "   'Name': ['Alex', 'Amy', 'Allen', 'Alice', 'Ayoung'],\n",
    "   'subject_id':['sub1','sub2','sub4','sub6','sub5'],\n",
    "   'Marks_scored':[98,90,87,69,78]},\n",
    "   index=[1,2,3,4,5])\n",
    "\n",
    "two = pd.DataFrame({\n",
    "   'Name': ['Billy', 'Brian', 'Bran', 'Bryce', 'Betty'],\n",
    "   'subject_id':['sub2','sub4','sub3','sub6','sub5'],\n",
    "   'Marks_scored':[89,80,79,97,88]},\n",
    "   index=[1,2,3,4,5])\n",
    "print (pd.concat([one,two],keys=['x','y'],ignore_index=True))"
   ]
  },
  {
   "cell_type": "code",
   "execution_count": 51,
   "metadata": {},
   "outputs": [
    {
     "name": "stdout",
     "output_type": "stream",
     "text": [
      "2019-02-19 17:46:12.742377\n"
     ]
    }
   ],
   "source": [
    "print (pd.datetime.now())"
   ]
  },
  {
   "cell_type": "code",
   "execution_count": 52,
   "metadata": {},
   "outputs": [
    {
     "name": "stdout",
     "output_type": "stream",
     "text": [
      "2017-03-01 00:00:00\n"
     ]
    }
   ],
   "source": [
    "print (pd.Timestamp('2017-03-01'))"
   ]
  },
  {
   "cell_type": "code",
   "execution_count": 53,
   "metadata": {},
   "outputs": [
    {
     "name": "stdout",
     "output_type": "stream",
     "text": [
      "[datetime.time(11, 0) datetime.time(11, 30) datetime.time(12, 0)\n",
      " datetime.time(12, 30) datetime.time(13, 0) datetime.time(13, 30)]\n"
     ]
    }
   ],
   "source": [
    "print (pd.date_range(\"11:00\", \"13:30\", freq=\"30min\").time)"
   ]
  },
  {
   "cell_type": "code",
   "execution_count": 54,
   "metadata": {},
   "outputs": [
    {
     "name": "stdout",
     "output_type": "stream",
     "text": [
      "0   2009-07-31\n",
      "1   2010-01-10\n",
      "2          NaT\n",
      "dtype: datetime64[ns]\n"
     ]
    }
   ],
   "source": [
    "print (pd.to_datetime(pd.Series(['Jul 31, 2009','2010-01-10', None])))"
   ]
  },
  {
   "cell_type": "code",
   "execution_count": 55,
   "metadata": {},
   "outputs": [
    {
     "name": "stdout",
     "output_type": "stream",
     "text": [
      "DatetimeIndex(['2005-11-23', '2010-12-31', 'NaT'], dtype='datetime64[ns]', freq=None)\n"
     ]
    }
   ],
   "source": [
    "print (pd.to_datetime(['2005/11/23', '2010.12.31', None]))"
   ]
  },
  {
   "cell_type": "code",
   "execution_count": 56,
   "metadata": {},
   "outputs": [
    {
     "name": "stdout",
     "output_type": "stream",
     "text": [
      "DatetimeIndex(['2011-01-01', '2011-01-02', '2011-01-03', '2011-01-04',\n",
      "               '2011-01-05'],\n",
      "              dtype='datetime64[ns]', freq='D')\n"
     ]
    }
   ],
   "source": [
    "print (pd.date_range('1/1/2011', periods=5))"
   ]
  },
  {
   "cell_type": "code",
   "execution_count": 57,
   "metadata": {},
   "outputs": [
    {
     "name": "stdout",
     "output_type": "stream",
     "text": [
      "DatetimeIndex(['2011-01-31', '2011-02-28', '2011-03-31', '2011-04-30',\n",
      "               '2011-05-31'],\n",
      "              dtype='datetime64[ns]', freq='M')\n"
     ]
    }
   ],
   "source": [
    "print (pd.date_range('1/1/2011', periods=5,freq='M'))"
   ]
  },
  {
   "cell_type": "code",
   "execution_count": 58,
   "metadata": {},
   "outputs": [
    {
     "name": "stdout",
     "output_type": "stream",
     "text": [
      "DatetimeIndex(['2011-01-01', '2011-01-02', '2011-01-03', '2011-01-04',\n",
      "               '2011-01-05'],\n",
      "              dtype='datetime64[ns]', freq='D')\n"
     ]
    }
   ],
   "source": [
    "print (pd.date_range('1/1/2011', periods=5))"
   ]
  },
  {
   "cell_type": "code",
   "execution_count": 59,
   "metadata": {},
   "outputs": [
    {
     "name": "stdout",
     "output_type": "stream",
     "text": [
      "DatetimeIndex(['2011-01-01', '2011-01-02', '2011-01-03', '2011-01-04',\n",
      "               '2011-01-05'],\n",
      "              dtype='datetime64[ns]', freq='D')\n"
     ]
    }
   ],
   "source": [
    "start = pd.datetime(2011, 1, 1)\n",
    "end = pd.datetime(2011, 1, 5)\n",
    "\n",
    "print (pd.date_range(start, end))"
   ]
  },
  {
   "cell_type": "code",
   "execution_count": 60,
   "metadata": {},
   "outputs": [
    {
     "name": "stdout",
     "output_type": "stream",
     "text": [
      "2 days 02:15:30\n"
     ]
    }
   ],
   "source": [
    "print (pd.Timedelta('2 days 2 hours 15 minutes 30 seconds'))"
   ]
  },
  {
   "cell_type": "code",
   "execution_count": 61,
   "metadata": {},
   "outputs": [
    {
     "name": "stdout",
     "output_type": "stream",
     "text": [
      "0 days 06:00:00\n"
     ]
    }
   ],
   "source": [
    "print (pd.Timedelta(6,unit='h'))"
   ]
  },
  {
   "cell_type": "code",
   "execution_count": 62,
   "metadata": {},
   "outputs": [
    {
     "name": "stdout",
     "output_type": "stream",
     "text": [
      "2 days 00:00:00\n"
     ]
    }
   ],
   "source": [
    "print (pd.Timedelta(days=2))"
   ]
  },
  {
   "cell_type": "code",
   "execution_count": 63,
   "metadata": {},
   "outputs": [
    {
     "name": "stdout",
     "output_type": "stream",
     "text": [
      "           A      B\n",
      "0 2012-01-01 0 days\n",
      "1 2012-01-02 1 days\n",
      "2 2012-01-03 2 days\n"
     ]
    }
   ],
   "source": [
    "s = pd.Series(pd.date_range('2012-1-1', periods=3, freq='D'))\n",
    "td = pd.Series([ pd.Timedelta(days=i) for i in range(3) ])\n",
    "df = pd.DataFrame(dict(A = s, B = td))\n",
    "\n",
    "print (df)"
   ]
  },
  {
   "cell_type": "code",
   "execution_count": 64,
   "metadata": {},
   "outputs": [
    {
     "name": "stdout",
     "output_type": "stream",
     "text": [
      "           A      B          C\n",
      "0 2012-01-01 0 days 2012-01-01\n",
      "1 2012-01-02 1 days 2012-01-03\n",
      "2 2012-01-03 2 days 2012-01-05\n"
     ]
    }
   ],
   "source": [
    "s = pd.Series(pd.date_range('2012-1-1', periods=3, freq='D'))\n",
    "td = pd.Series([ pd.Timedelta(days=i) for i in range(3) ])\n",
    "df = pd.DataFrame(dict(A = s, B = td))\n",
    "df['C']=df['A']+df['B']\n",
    "\n",
    "print (df)"
   ]
  },
  {
   "cell_type": "code",
   "execution_count": 65,
   "metadata": {},
   "outputs": [
    {
     "name": "stdout",
     "output_type": "stream",
     "text": [
      "           A      B          C          D\n",
      "0 2012-01-01 0 days 2012-01-01 2012-01-01\n",
      "1 2012-01-02 1 days 2012-01-03 2012-01-04\n",
      "2 2012-01-03 2 days 2012-01-05 2012-01-07\n"
     ]
    }
   ],
   "source": [
    "s = pd.Series(pd.date_range('2012-1-1', periods=3, freq='D'))\n",
    "td = pd.Series([ pd.Timedelta(days=i) for i in range(3) ])\n",
    "df = pd.DataFrame(dict(A = s, B = td))\n",
    "df['C']=df['A']+df['B']\n",
    "df['D']=df['C']+df['B']\n",
    "\n",
    "print (df)"
   ]
  },
  {
   "cell_type": "code",
   "execution_count": 4,
   "metadata": {},
   "outputs": [
    {
     "name": "stdout",
     "output_type": "stream",
     "text": [
      "0    a\n",
      "1    b\n",
      "2    c\n",
      "3    a\n",
      "dtype: category\n",
      "Categories (3, object): [a, b, c]\n"
     ]
    }
   ],
   "source": [
    "import pandas as pd\n",
    "\n",
    "s = pd.Series([\"a\",\"b\",\"c\",\"a\"], dtype=\"category\")\n",
    "print (s)"
   ]
  },
  {
   "cell_type": "code",
   "execution_count": 5,
   "metadata": {},
   "outputs": [
    {
     "name": "stdout",
     "output_type": "stream",
     "text": [
      "[a, b, c, a, b, c]\n",
      "Categories (3, object): [a, b, c]\n"
     ]
    }
   ],
   "source": [
    "cat = pd.Categorical(['a', 'b', 'c', 'a', 'b', 'c'])\n",
    "print (cat)"
   ]
  },
  {
   "cell_type": "code",
   "execution_count": 6,
   "metadata": {},
   "outputs": [
    {
     "name": "stdout",
     "output_type": "stream",
     "text": [
      "[a, b, c, a, b, c, NaN]\n",
      "Categories (3, object): [c, b, a]\n"
     ]
    }
   ],
   "source": [
    "cat = cat=pd.Categorical(['a','b','c','a','b','c','d'], ['c', 'b', 'a'])\n",
    "print (cat)"
   ]
  },
  {
   "cell_type": "code",
   "execution_count": 7,
   "metadata": {},
   "outputs": [
    {
     "name": "stdout",
     "output_type": "stream",
     "text": [
      "[a, b, c, a, b, c, NaN]\n",
      "Categories (3, object): [c < b < a]\n"
     ]
    }
   ],
   "source": [
    "cat = cat=pd.Categorical(['a','b','c','a','b','c','d'], ['c', 'b', 'a'],ordered=True)\n",
    "print (cat)"
   ]
  },
  {
   "cell_type": "code",
   "execution_count": 9,
   "metadata": {},
   "outputs": [
    {
     "name": "stdout",
     "output_type": "stream",
     "text": [
      "       cat  s\n",
      "count    3  3\n",
      "unique   2  2\n",
      "top      c  c\n",
      "freq     2  2\n",
      "count     3\n",
      "unique    2\n",
      "top       c\n",
      "freq      2\n",
      "Name: cat, dtype: object\n"
     ]
    }
   ],
   "source": [
    "import numpy as np\n",
    "cat = pd.Categorical([\"a\", \"c\", \"c\", np.nan], categories=[\"b\", \"a\", \"c\"])\n",
    "df = pd.DataFrame({\"cat\":cat, \"s\":[\"a\", \"c\", \"c\", np.nan]})\n",
    "\n",
    "print (df.describe())\n",
    "print (df[\"cat\"].describe())"
   ]
  },
  {
   "cell_type": "code",
   "execution_count": 1,
   "metadata": {},
   "outputs": [
    {
     "name": "stdout",
     "output_type": "stream",
     "text": [
      "Index(['b', 'a', 'c'], dtype='object')\n"
     ]
    }
   ],
   "source": [
    "import pandas as pd\n",
    "import numpy as np\n",
    "\n",
    "s = pd.Categorical([\"a\", \"c\", \"c\", np.nan], categories=[\"b\", \"a\", \"c\"])\n",
    "print (s.categories) #.categories command is used 2 categorise the object"
   ]
  },
  {
   "cell_type": "code",
   "execution_count": 2,
   "metadata": {},
   "outputs": [
    {
     "name": "stdout",
     "output_type": "stream",
     "text": [
      "False\n"
     ]
    }
   ],
   "source": [
    "cat = pd.Categorical([\"a\", \"c\", \"c\", np.nan], categories=[\"b\", \"a\", \"c\"])\n",
    "print (cat.ordered) #false value since no order is provided "
   ]
  },
  {
   "cell_type": "code",
   "execution_count": 3,
   "metadata": {},
   "outputs": [
    {
     "name": "stdout",
     "output_type": "stream",
     "text": [
      "Index(['Group a', 'Group b', 'Group c'], dtype='object')\n"
     ]
    }
   ],
   "source": [
    "s = pd.Series([\"a\",\"b\",\"c\",\"a\"], dtype=\"category\")\n",
    "s.cat.categories = [\"Group %s\" % g for g in s.cat.categories]\n",
    "print (s.cat.categories)  #Initial categories [a,b,c] are updated by the s.cat.categories property of the object."
   ]
  },
  {
   "cell_type": "code",
   "execution_count": 4,
   "metadata": {},
   "outputs": [
    {
     "name": "stdout",
     "output_type": "stream",
     "text": [
      "Index(['a', 'b', 'c', 4], dtype='object')\n"
     ]
    }
   ],
   "source": [
    "s = pd.Series([\"a\",\"b\",\"c\",\"a\"], dtype=\"category\")\n",
    "s = s.cat.add_categories([4])\n",
    "print (s.cat.categories)  #appending new categories"
   ]
  },
  {
   "cell_type": "code",
   "execution_count": 6,
   "metadata": {},
   "outputs": [
    {
     "name": "stdout",
     "output_type": "stream",
     "text": [
      "Original object:\n",
      "0    a\n",
      "1    b\n",
      "2    c\n",
      "3    a\n",
      "dtype: category\n",
      "Categories (3, object): [a, b, c]\n",
      "\n",
      "\n",
      "After removal:\n",
      "0    NaN\n",
      "1      b\n",
      "2      c\n",
      "3    NaN\n",
      "dtype: category\n",
      "Categories (2, object): [b, c]\n"
     ]
    }
   ],
   "source": [
    "s = pd.Series([\"a\",\"b\",\"c\",\"a\"], dtype=\"category\")\n",
    "print (\"Original object:\")\n",
    "print (s)\n",
    "print('\\n')\n",
    "print (\"After removal:\")       #removing categories\n",
    "print (s.cat.remove_categories(\"a\"))"
   ]
  },
  {
   "cell_type": "code",
   "execution_count": 7,
   "metadata": {},
   "outputs": [
    {
     "name": "stdout",
     "output_type": "stream",
     "text": [
      "0    1\n",
      "1    2\n",
      "2    3\n",
      "dtype: category\n",
      "Categories (3, int64): [1 < 2 < 3]\n",
      "\n",
      "\n",
      "0    2\n",
      "1    2\n",
      "2    2\n",
      "dtype: category\n",
      "Categories (3, int64): [1 < 2 < 3]\n",
      "\n",
      "\n",
      "0    False\n",
      "1    False\n",
      "2     True\n",
      "dtype: bool\n"
     ]
    },
    {
     "name": "stderr",
     "output_type": "stream",
     "text": [
      "F:\\anaconda\\lib\\site-packages\\ipykernel_launcher.py:1: FutureWarning: specifying 'categories' or 'ordered' in .astype() is deprecated; pass a CategoricalDtype instead\n",
      "  \"\"\"Entry point for launching an IPython kernel.\n",
      "F:\\anaconda\\lib\\site-packages\\ipykernel_launcher.py:2: FutureWarning: specifying 'categories' or 'ordered' in .astype() is deprecated; pass a CategoricalDtype instead\n",
      "  \n"
     ]
    }
   ],
   "source": [
    "cat = pd.Series([1,2,3]).astype(\"category\", categories=[1,2,3], ordered=True)\n",
    "cat1 = pd.Series([2,2,2]).astype(\"category\", categories=[1,2,3], ordered=True)\n",
    "print(cat)\n",
    "print('\\n')\n",
    "print(cat1)\n",
    "print('\\n')\n",
    "print (cat>cat1)"
   ]
  },
  {
   "cell_type": "code",
   "execution_count": 3,
   "metadata": {},
   "outputs": [
    {
     "name": "stdout",
     "output_type": "stream",
     "text": [
      "\n",
      "\n"
     ]
    },
    {
     "data": {
      "text/plain": [
       "<matplotlib.axes._subplots.AxesSubplot at 0x22466495da0>"
      ]
     },
     "execution_count": 3,
     "metadata": {},
     "output_type": "execute_result"
    },
    {
     "data": {
      "image/png": "[encoded data removed]",
      "text/plain": [
       "<Figure size 432x288 with 1 Axes>"
      ]
     },
     "metadata": {
      "needs_background": "light"
     },
     "output_type": "display_data"
    },
    {
     "data": {
      "image/png": "[encoded data removed]",
      "text/plain": [
       "<Figure size 432x288 with 1 Axes>"
      ]
     },
     "metadata": {
      "needs_background": "light"
     },
     "output_type": "display_data"
    }
   ],
   "source": [
    "import numpy as np\n",
    "import pandas as pd\n",
    "df = pd.DataFrame(np.random.randn(10,4),index=pd.date_range('1/1/2000',\n",
    "   periods=10), columns=list('ABCD'))\n",
    "\n",
    "df.plot()\n",
    "print('\\n')\n",
    "df.plot.barh(stacked=True)"
   ]
  },
  {
   "cell_type": "code",
   "execution_count": 4,
   "metadata": {},
   "outputs": [
    {
     "data": {
      "text/plain": [
       "<matplotlib.axes._subplots.AxesSubplot at 0x2246656b0b8>"
      ]
     },
     "execution_count": 4,
     "metadata": {},
     "output_type": "execute_result"
    },
    {
     "data": {
      "image/png": "[encoded data removed]",
      "text/plain": [
       "<Figure size 432x288 with 1 Axes>"
      ]
     },
     "metadata": {
      "needs_background": "light"
     },
     "output_type": "display_data"
    }
   ],
   "source": [
    "df = pd.DataFrame({'a':np.random.randn(1000)+1,'b':np.random.randn(1000),'c':\n",
    "np.random.randn(1000) - 1}, columns=['a', 'b', 'c'])\n",
    "\n",
    "df.plot.hist(bins=20)"
   ]
  },
  {
   "cell_type": "code",
   "execution_count": 8,
   "metadata": {},
   "outputs": [
    {
     "ename": "AttributeError",
     "evalue": "'function' object has no attribute 'hist'",
     "output_type": "error",
     "traceback": [
      "\u001b[1;31m---------------------------------------------------------------------------\u001b[0m",
      "\u001b[1;31mAttributeError\u001b[0m                            Traceback (most recent call last)",
      "\u001b[1;32m<ipython-input-8-0305953640de>\u001b[0m in \u001b[0;36m<module>\u001b[1;34m\u001b[0m\n\u001b[0;32m      5\u001b[0m np.random.randn(1000) - 1}, columns=['a', 'b', 'c'])\n\u001b[0;32m      6\u001b[0m \u001b[1;33m\u001b[0m\u001b[0m\n\u001b[1;32m----> 7\u001b[1;33m \u001b[0mdf\u001b[0m\u001b[1;33m.\u001b[0m\u001b[0mdiff\u001b[0m\u001b[1;33m.\u001b[0m\u001b[0mhist\u001b[0m\u001b[1;33m(\u001b[0m\u001b[0mbins\u001b[0m\u001b[1;33m=\u001b[0m\u001b[1;36m20\u001b[0m\u001b[1;33m)\u001b[0m\u001b[1;33m\u001b[0m\u001b[1;33m\u001b[0m\u001b[0m\n\u001b[0m",
      "\u001b[1;31mAttributeError\u001b[0m: 'function' object has no attribute 'hist'"
     ]
    }
   ],
   "source": [
    "import pandas as pd\n",
    "import numpy as np\n",
    "\n",
    "df=pd.DataFrame({'a':np.random.randn(1000)+1,'b':np.random.randn(1000),'c':\n",
    "np.random.randn(1000) - 1}, columns=['a', 'b', 'c'])\n",
    "\n",
    "df.diff.hist(bins=20)"
   ]
  },
  {
   "cell_type": "code",
   "execution_count": 9,
   "metadata": {},
   "outputs": [
    {
     "data": {
      "text/plain": [
       "<matplotlib.axes._subplots.AxesSubplot at 0x2246648a470>"
      ]
     },
     "execution_count": 9,
     "metadata": {},
     "output_type": "execute_result"
    },
    {
     "data": {
      "image/png": "[encoded data removed]",
      "text/plain": [
       "<Figure size 432x288 with 1 Axes>"
      ]
     },
     "metadata": {
      "needs_background": "light"
     },
     "output_type": "display_data"
    }
   ],
   "source": [
    "df = pd.DataFrame(np.random.rand(10, 5), columns=['A', 'B', 'C', 'D', 'E'])\n",
    "df.plot.box()"
   ]
  },
  {
   "cell_type": "code",
   "execution_count": 10,
   "metadata": {},
   "outputs": [
    {
     "data": {
      "text/plain": [
       "<matplotlib.axes._subplots.AxesSubplot at 0x22465fe2748>"
      ]
     },
     "execution_count": 10,
     "metadata": {},
     "output_type": "execute_result"
    },
    {
     "data": {
      "image/png": "[encoded data removed]",
      "text/plain": [
       "<Figure size 432x288 with 1 Axes>"
      ]
     },
     "metadata": {
      "needs_background": "light"
     },
     "output_type": "display_data"
    }
   ],
   "source": [
    "df = pd.DataFrame(np.random.rand(10, 4), columns=['a', 'b', 'c', 'd'])\n",
    "df.plot.area()"
   ]
  },
  {
   "cell_type": "code",
   "execution_count": 11,
   "metadata": {},
   "outputs": [
    {
     "data": {
      "text/plain": [
       "<matplotlib.axes._subplots.AxesSubplot at 0x2246644cf28>"
      ]
     },
     "execution_count": 11,
     "metadata": {},
     "output_type": "execute_result"
    },
    {
     "data": {
      "image/png": "[encoded data removed]",
      "text/plain": [
       "<Figure size 432x288 with 1 Axes>"
      ]
     },
     "metadata": {
      "needs_background": "light"
     },
     "output_type": "display_data"
    }
   ],
   "source": [
    "df = pd.DataFrame(np.random.rand(50, 4), columns=['a', 'b', 'c', 'd'])\n",
    "df.plot.scatter(x='a', y='b')"
   ]
  },
  {
   "cell_type": "code",
   "execution_count": 12,
   "metadata": {},
   "outputs": [
    {
     "data": {
      "text/plain": [
       "array([<matplotlib.axes._subplots.AxesSubplot object at 0x00000224661F5D30>],\n",
       "      dtype=object)"
      ]
     },
     "execution_count": 12,
     "metadata": {},
     "output_type": "execute_result"
    },
    {
     "data": {
      "image/png": "[encoded data removed]",
      "text/plain": [
       "<Figure size 432x288 with 1 Axes>"
      ]
     },
     "metadata": {},
     "output_type": "display_data"
    }
   ],
   "source": [
    "df = pd.DataFrame(3 * np.random.rand(4), index=['a', 'b', 'c', 'd'], columns=['x'])\n",
    "df.plot.pie(subplots=True)"
   ]
  },
  {
   "cell_type": "code",
   "execution_count": 16,
   "metadata": {},
   "outputs": [
    {
     "ename": "FileNotFoundError",
     "evalue": "File b'temp.csv' does not exist",
     "output_type": "error",
     "traceback": [
      "\u001b[1;31m---------------------------------------------------------------------------\u001b[0m",
      "\u001b[1;31mFileNotFoundError\u001b[0m                         Traceback (most recent call last)",
      "\u001b[1;32m<ipython-input-16-c7eaf21b36f9>\u001b[0m in \u001b[0;36m<module>\u001b[1;34m\u001b[0m\n\u001b[1;32m----> 1\u001b[1;33m \u001b[0mdf\u001b[0m\u001b[1;33m=\u001b[0m\u001b[0mpd\u001b[0m\u001b[1;33m.\u001b[0m\u001b[0mread_csv\u001b[0m\u001b[1;33m(\u001b[0m\u001b[1;34m\"temp.csv\"\u001b[0m\u001b[1;33m,\u001b[0m\u001b[0mindex_col\u001b[0m\u001b[1;33m=\u001b[0m\u001b[1;33m[\u001b[0m\u001b[1;34m'S.No'\u001b[0m\u001b[1;33m]\u001b[0m\u001b[1;33m)\u001b[0m\u001b[1;33m\u001b[0m\u001b[1;33m\u001b[0m\u001b[0m\n\u001b[0m\u001b[0;32m      2\u001b[0m \u001b[0mprint\u001b[0m \u001b[1;33m(\u001b[0m\u001b[0mdf\u001b[0m\u001b[1;33m)\u001b[0m\u001b[1;33m\u001b[0m\u001b[1;33m\u001b[0m\u001b[0m\n",
      "\u001b[1;32mF:\\anaconda\\lib\\site-packages\\pandas\\io\\parsers.py\u001b[0m in \u001b[0;36mparser_f\u001b[1;34m(filepath_or_buffer, sep, delimiter, header, names, index_col, usecols, squeeze, prefix, mangle_dupe_cols, dtype, engine, converters, true_values, false_values, skipinitialspace, skiprows, nrows, na_values, keep_default_na, na_filter, verbose, skip_blank_lines, parse_dates, infer_datetime_format, keep_date_col, date_parser, dayfirst, iterator, chunksize, compression, thousands, decimal, lineterminator, quotechar, quoting, escapechar, comment, encoding, dialect, tupleize_cols, error_bad_lines, warn_bad_lines, skipfooter, doublequote, delim_whitespace, low_memory, memory_map, float_precision)\u001b[0m\n\u001b[0;32m    676\u001b[0m                     skip_blank_lines=skip_blank_lines)\n\u001b[0;32m    677\u001b[0m \u001b[1;33m\u001b[0m\u001b[0m\n\u001b[1;32m--> 678\u001b[1;33m         \u001b[1;32mreturn\u001b[0m \u001b[0m_read\u001b[0m\u001b[1;33m(\u001b[0m\u001b[0mfilepath_or_buffer\u001b[0m\u001b[1;33m,\u001b[0m \u001b[0mkwds\u001b[0m\u001b[1;33m)\u001b[0m\u001b[1;33m\u001b[0m\u001b[1;33m\u001b[0m\u001b[0m\n\u001b[0m\u001b[0;32m    679\u001b[0m \u001b[1;33m\u001b[0m\u001b[0m\n\u001b[0;32m    680\u001b[0m     \u001b[0mparser_f\u001b[0m\u001b[1;33m.\u001b[0m\u001b[0m__name__\u001b[0m \u001b[1;33m=\u001b[0m \u001b[0mname\u001b[0m\u001b[1;33m\u001b[0m\u001b[1;33m\u001b[0m\u001b[0m\n",
      "\u001b[1;32mF:\\anaconda\\lib\\site-packages\\pandas\\io\\parsers.py\u001b[0m in \u001b[0;36m_read\u001b[1;34m(filepath_or_buffer, kwds)\u001b[0m\n\u001b[0;32m    438\u001b[0m \u001b[1;33m\u001b[0m\u001b[0m\n\u001b[0;32m    439\u001b[0m     \u001b[1;31m# Create the parser.\u001b[0m\u001b[1;33m\u001b[0m\u001b[1;33m\u001b[0m\u001b[1;33m\u001b[0m\u001b[0m\n\u001b[1;32m--> 440\u001b[1;33m     \u001b[0mparser\u001b[0m \u001b[1;33m=\u001b[0m \u001b[0mTextFileReader\u001b[0m\u001b[1;33m(\u001b[0m\u001b[0mfilepath_or_buffer\u001b[0m\u001b[1;33m,\u001b[0m \u001b[1;33m**\u001b[0m\u001b[0mkwds\u001b[0m\u001b[1;33m)\u001b[0m\u001b[1;33m\u001b[0m\u001b[1;33m\u001b[0m\u001b[0m\n\u001b[0m\u001b[0;32m    441\u001b[0m \u001b[1;33m\u001b[0m\u001b[0m\n\u001b[0;32m    442\u001b[0m     \u001b[1;32mif\u001b[0m \u001b[0mchunksize\u001b[0m \u001b[1;32mor\u001b[0m \u001b[0miterator\u001b[0m\u001b[1;33m:\u001b[0m\u001b[1;33m\u001b[0m\u001b[1;33m\u001b[0m\u001b[0m\n",
      "\u001b[1;32mF:\\anaconda\\lib\\site-packages\\pandas\\io\\parsers.py\u001b[0m in \u001b[0;36m__init__\u001b[1;34m(self, f, engine, **kwds)\u001b[0m\n\u001b[0;32m    785\u001b[0m             \u001b[0mself\u001b[0m\u001b[1;33m.\u001b[0m\u001b[0moptions\u001b[0m\u001b[1;33m[\u001b[0m\u001b[1;34m'has_index_names'\u001b[0m\u001b[1;33m]\u001b[0m \u001b[1;33m=\u001b[0m \u001b[0mkwds\u001b[0m\u001b[1;33m[\u001b[0m\u001b[1;34m'has_index_names'\u001b[0m\u001b[1;33m]\u001b[0m\u001b[1;33m\u001b[0m\u001b[1;33m\u001b[0m\u001b[0m\n\u001b[0;32m    786\u001b[0m \u001b[1;33m\u001b[0m\u001b[0m\n\u001b[1;32m--> 787\u001b[1;33m         \u001b[0mself\u001b[0m\u001b[1;33m.\u001b[0m\u001b[0m_make_engine\u001b[0m\u001b[1;33m(\u001b[0m\u001b[0mself\u001b[0m\u001b[1;33m.\u001b[0m\u001b[0mengine\u001b[0m\u001b[1;33m)\u001b[0m\u001b[1;33m\u001b[0m\u001b[1;33m\u001b[0m\u001b[0m\n\u001b[0m\u001b[0;32m    788\u001b[0m \u001b[1;33m\u001b[0m\u001b[0m\n\u001b[0;32m    789\u001b[0m     \u001b[1;32mdef\u001b[0m \u001b[0mclose\u001b[0m\u001b[1;33m(\u001b[0m\u001b[0mself\u001b[0m\u001b[1;33m)\u001b[0m\u001b[1;33m:\u001b[0m\u001b[1;33m\u001b[0m\u001b[1;33m\u001b[0m\u001b[0m\n",
      "\u001b[1;32mF:\\anaconda\\lib\\site-packages\\pandas\\io\\parsers.py\u001b[0m in \u001b[0;36m_make_engine\u001b[1;34m(self, engine)\u001b[0m\n\u001b[0;32m   1012\u001b[0m     \u001b[1;32mdef\u001b[0m \u001b[0m_make_engine\u001b[0m\u001b[1;33m(\u001b[0m\u001b[0mself\u001b[0m\u001b[1;33m,\u001b[0m \u001b[0mengine\u001b[0m\u001b[1;33m=\u001b[0m\u001b[1;34m'c'\u001b[0m\u001b[1;33m)\u001b[0m\u001b[1;33m:\u001b[0m\u001b[1;33m\u001b[0m\u001b[1;33m\u001b[0m\u001b[0m\n\u001b[0;32m   1013\u001b[0m         \u001b[1;32mif\u001b[0m \u001b[0mengine\u001b[0m \u001b[1;33m==\u001b[0m \u001b[1;34m'c'\u001b[0m\u001b[1;33m:\u001b[0m\u001b[1;33m\u001b[0m\u001b[1;33m\u001b[0m\u001b[0m\n\u001b[1;32m-> 1014\u001b[1;33m             \u001b[0mself\u001b[0m\u001b[1;33m.\u001b[0m\u001b[0m_engine\u001b[0m \u001b[1;33m=\u001b[0m \u001b[0mCParserWrapper\u001b[0m\u001b[1;33m(\u001b[0m\u001b[0mself\u001b[0m\u001b[1;33m.\u001b[0m\u001b[0mf\u001b[0m\u001b[1;33m,\u001b[0m \u001b[1;33m**\u001b[0m\u001b[0mself\u001b[0m\u001b[1;33m.\u001b[0m\u001b[0moptions\u001b[0m\u001b[1;33m)\u001b[0m\u001b[1;33m\u001b[0m\u001b[1;33m\u001b[0m\u001b[0m\n\u001b[0m\u001b[0;32m   1015\u001b[0m         \u001b[1;32melse\u001b[0m\u001b[1;33m:\u001b[0m\u001b[1;33m\u001b[0m\u001b[1;33m\u001b[0m\u001b[0m\n\u001b[0;32m   1016\u001b[0m             \u001b[1;32mif\u001b[0m \u001b[0mengine\u001b[0m \u001b[1;33m==\u001b[0m \u001b[1;34m'python'\u001b[0m\u001b[1;33m:\u001b[0m\u001b[1;33m\u001b[0m\u001b[1;33m\u001b[0m\u001b[0m\n",
      "\u001b[1;32mF:\\anaconda\\lib\\site-packages\\pandas\\io\\parsers.py\u001b[0m in \u001b[0;36m__init__\u001b[1;34m(self, src, **kwds)\u001b[0m\n\u001b[0;32m   1706\u001b[0m         \u001b[0mkwds\u001b[0m\u001b[1;33m[\u001b[0m\u001b[1;34m'usecols'\u001b[0m\u001b[1;33m]\u001b[0m \u001b[1;33m=\u001b[0m \u001b[0mself\u001b[0m\u001b[1;33m.\u001b[0m\u001b[0musecols\u001b[0m\u001b[1;33m\u001b[0m\u001b[1;33m\u001b[0m\u001b[0m\n\u001b[0;32m   1707\u001b[0m \u001b[1;33m\u001b[0m\u001b[0m\n\u001b[1;32m-> 1708\u001b[1;33m         \u001b[0mself\u001b[0m\u001b[1;33m.\u001b[0m\u001b[0m_reader\u001b[0m \u001b[1;33m=\u001b[0m \u001b[0mparsers\u001b[0m\u001b[1;33m.\u001b[0m\u001b[0mTextReader\u001b[0m\u001b[1;33m(\u001b[0m\u001b[0msrc\u001b[0m\u001b[1;33m,\u001b[0m \u001b[1;33m**\u001b[0m\u001b[0mkwds\u001b[0m\u001b[1;33m)\u001b[0m\u001b[1;33m\u001b[0m\u001b[1;33m\u001b[0m\u001b[0m\n\u001b[0m\u001b[0;32m   1709\u001b[0m \u001b[1;33m\u001b[0m\u001b[0m\n\u001b[0;32m   1710\u001b[0m         \u001b[0mpassed_names\u001b[0m \u001b[1;33m=\u001b[0m \u001b[0mself\u001b[0m\u001b[1;33m.\u001b[0m\u001b[0mnames\u001b[0m \u001b[1;32mis\u001b[0m \u001b[1;32mNone\u001b[0m\u001b[1;33m\u001b[0m\u001b[1;33m\u001b[0m\u001b[0m\n",
      "\u001b[1;32mpandas\\_libs\\parsers.pyx\u001b[0m in \u001b[0;36mpandas._libs.parsers.TextReader.__cinit__\u001b[1;34m()\u001b[0m\n",
      "\u001b[1;32mpandas\\_libs\\parsers.pyx\u001b[0m in \u001b[0;36mpandas._libs.parsers.TextReader._setup_parser_source\u001b[1;34m()\u001b[0m\n",
      "\u001b[1;31mFileNotFoundError\u001b[0m: File b'temp.csv' does not exist"
     ]
    }
   ],
   "source": [
    "df=pd.read_csv(\"temp.csv\",index_col=['S.No'])\n",
    "print (df)"
   ]
  },
  {
   "cell_type": "code",
   "execution_count": 17,
   "metadata": {},
   "outputs": [
    {
     "name": "stdout",
     "output_type": "stream",
     "text": [
      "0   -0.721379\n",
      "1    0.868836\n",
      "2         NaN\n",
      "3         NaN\n",
      "4         NaN\n",
      "5         NaN\n",
      "6         NaN\n",
      "7         NaN\n",
      "8    0.260580\n",
      "9   -1.501396\n",
      "dtype: float64\n",
      "BlockIndex\n",
      "Block locations: array([0, 8])\n",
      "Block lengths: array([2, 2])\n"
     ]
    }
   ],
   "source": [
    "ts = pd.Series(np.random.randn(10))\n",
    "ts[2:-2] = np.nan\n",
    "sts = ts.to_sparse()\n",
    "print (sts)"
   ]
  },
  {
   "cell_type": "code",
   "execution_count": 18,
   "metadata": {},
   "outputs": [
    {
     "name": "stderr",
     "output_type": "stream",
     "text": [
      "F:\\anaconda\\lib\\site-packages\\ipykernel_launcher.py:2: DeprecationWarning: \n",
      ".ix is deprecated. Please use\n",
      ".loc for label based indexing or\n",
      ".iloc for positional indexing\n",
      "\n",
      "See the documentation here:\n",
      "http://pandas.pydata.org/pandas-docs/stable/indexing.html#ix-indexer-is-deprecated\n",
      "  \n"
     ]
    },
    {
     "name": "stdout",
     "output_type": "stream",
     "text": [
      "0.0001\n"
     ]
    }
   ],
   "source": [
    "df = pd.DataFrame(np.random.randn(10000, 4))\n",
    "df.ix[:9998] = np.nan\n",
    "sdf = df.to_sparse()\n",
    "\n",
    "print (sdf.density)"
   ]
  },
  {
   "cell_type": "code",
   "execution_count": 19,
   "metadata": {},
   "outputs": [
    {
     "name": "stdout",
     "output_type": "stream",
     "text": [
      "0    False\n",
      "1    False\n",
      "2    False\n",
      "3    False\n",
      "4     True\n",
      "dtype: bool\n"
     ]
    }
   ],
   "source": [
    "s = pd.Series(range(5))\n",
    "print (s==4)"
   ]
  },
  {
   "cell_type": "code",
   "execution_count": 26,
   "metadata": {},
   "outputs": [
    {
     "name": "stdout",
     "output_type": "stream",
     "text": [
      "0     True\n",
      "1    False\n",
      "2     True\n",
      "dtype: bool\n"
     ]
    }
   ],
   "source": [
    "s = pd.Series(list('abc'))\n",
    "s = s.isin(['a', 'c', 'e'])\n",
    "print (s)                  #check from list to the the corresponding set"
   ]
  },
  {
   "cell_type": "code",
   "execution_count": 28,
   "metadata": {},
   "outputs": [
    {
     "name": "stdout",
     "output_type": "stream",
     "text": [
      "        one       two     three      four\n",
      "a -0.390253  0.586219 -1.008686  0.002125\n",
      "b  0.538882 -0.032555 -0.681762 -0.352165\n",
      "c  0.431729 -0.080800 -1.704595  0.255772\n",
      "d -0.331279 -0.609014  0.483058  2.011985\n",
      "e  1.679923 -0.050992 -2.143450 -1.286693\n",
      "f -0.496369  0.699741  0.366871  0.519973\n",
      "        one       two     three      four\n",
      "b  0.538882 -0.032555 -0.681762 -0.352165\n",
      "c  0.431729 -0.080800 -1.704595  0.255772\n",
      "e  1.679923 -0.050992 -2.143450 -1.286693\n",
      "\n",
      "\n",
      "        one       two     three      four\n",
      "b  0.538882 -0.032555 -0.681762 -0.352165\n",
      "c  0.431729 -0.080800 -1.704595  0.255772\n",
      "e  1.679923 -0.050992 -2.143450 -1.286693\n"
     ]
    },
    {
     "name": "stderr",
     "output_type": "stream",
     "text": [
      "F:\\anaconda\\lib\\site-packages\\ipykernel_launcher.py:5: DeprecationWarning: \n",
      ".ix is deprecated. Please use\n",
      ".loc for label based indexing or\n",
      ".iloc for positional indexing\n",
      "\n",
      "See the documentation here:\n",
      "http://pandas.pydata.org/pandas-docs/stable/indexing.html#ix-indexer-is-deprecated\n",
      "  \"\"\"\n"
     ]
    }
   ],
   "source": [
    "df = pd.DataFrame(np.random.randn(6, 4), columns=['one', 'two', 'three',\n",
    "'four'],index=list('abcdef'))\n",
    "\n",
    "print (df)\n",
    "print (df.ix[['b', 'c', 'e']])\n",
    "print('\\n')\n",
    "print (df.reindex(['b', 'c', 'e']))   #equivalent to ix used earlier"
   ]
  },
  {
   "cell_type": "code",
   "execution_count": 32,
   "metadata": {},
   "outputs": [
    {
     "name": "stdout",
     "output_type": "stream",
     "text": [
      "        one       two     three      four\n",
      "a  0.477454  0.040104 -1.312958  0.045091\n",
      "b -0.923828 -0.643626  0.271269 -0.258513\n",
      "c -0.682473  1.049626  0.144301  0.040634\n",
      "d -2.263968  0.503021 -0.740374 -0.108944\n",
      "e  1.467457  0.040401 -1.963073  0.116530\n",
      "f  0.139654  0.689385 -0.083143 -1.883300\n",
      "        one       two     three      four\n",
      "b -0.923828 -0.643626  0.271269 -0.258513\n",
      "c -0.682473  1.049626  0.144301  0.040634\n",
      "e  1.467457  0.040401 -1.963073  0.116530\n",
      "   one  two  three  four\n",
      "1  NaN  NaN    NaN   NaN\n",
      "2  NaN  NaN    NaN   NaN\n",
      "4  NaN  NaN    NaN   NaN\n"
     ]
    },
    {
     "name": "stderr",
     "output_type": "stream",
     "text": [
      "F:\\anaconda\\lib\\site-packages\\ipykernel_launcher.py:5: DeprecationWarning: \n",
      ".ix is deprecated. Please use\n",
      ".loc for label based indexing or\n",
      ".iloc for positional indexing\n",
      "\n",
      "See the documentation here:\n",
      "http://pandas.pydata.org/pandas-docs/stable/indexing.html#ix-indexer-is-deprecated\n",
      "  \"\"\"\n"
     ]
    }
   ],
   "source": [
    "df = pd.DataFrame(np.random.randn(6, 4), columns=['one', 'two', 'three',\n",
    "'four'],index=list('abcdef'))\n",
    "\n",
    "print (df)\n",
    "print (df.ix[[1, 2, 4]])\n",
    "print (df.reindex([1, 2, 4]))  #It is important to remember that reindex is strict label indexing only. \n",
    "#This can lead to some potentially surprising results in pathological cases where an index contains, say, both integers and strings."
   ]
  },
  {
   "cell_type": "code",
   "execution_count": null,
   "metadata": {},
   "outputs": [],
   "source": []
  }
 ],
 "metadata": {
  "kernelspec": {
   "display_name": "Python 3",
   "language": "python",
   "name": "python3"
  },
  "language_info": {
   "codemirror_mode": {
    "name": "ipython",
    "version": 3
   },
   "file_extension": ".py",
   "mimetype": "text/x-python",
   "name": "python",
   "nbconvert_exporter": "python",
   "pygments_lexer": "ipython3",
   "version": "3.6.8"
  }
 },
 "nbformat": 4,
 "nbformat_minor": 2
}
